{
  "nbformat": 4,
  "nbformat_minor": 0,
  "metadata": {
    "colab": {
      "name": "CalcWinPercentage.ipynb",
      "provenance": [],
      "mount_file_id": "1hZkN7wbOItharvu3xiNclRcEK663eeYA",
      "authorship_tag": "ABX9TyOwOwDfud97yk0y9n5F24mj",
      "include_colab_link": true
    },
    "kernelspec": {
      "name": "python3",
      "display_name": "Python 3"
    },
    "language_info": {
      "name": "python"
    }
  },
  "cells": [
    {
      "cell_type": "markdown",
      "metadata": {
        "id": "view-in-github",
        "colab_type": "text"
      },
      "source": [
        "<a href=\"https://colab.research.google.com/github/dtmeyers/Soccer-Data-Analysis/blob/main/CalcWinPercentage.ipynb\" target=\"_parent\"><img src=\"https://colab.research.google.com/assets/colab-badge.svg\" alt=\"Open In Colab\"/></a>"
      ]
    },
    {
      "cell_type": "markdown",
      "source": [
        "To use C++ code in python, we have to build a class in C++ and then export it as a library that python can read in. [This](https://www.auctoris.co.uk/2017/04/29/calling-c-classes-from-python-with-ctypes/) article makes that library.so and then uses ctypes when calling the class and passing it variables in python. [This](https://iq.opengenus.org/create-shared-library-in-cpp/) article has an alternate way of creating the library that is much simpler.\n",
        "\n",
        "The way I should structure this to do soccer analysis is to write the file in a code cell here, then import it from the following code cell (stored in Drive). The class should take in 4 variables: home and away team atk and def ratings, and have functions to return win percentages for each team. It can even calculate those percentages upon creation and just have functions built in to return the values.\n",
        "\n",
        "To test this, I can use values from the World Cup simulator, which will make the declarations in python trivial and avoid a significant amount of data manipulation.\n",
        "\n",
        "*NOTE*\n",
        "\n",
        "I can play with whether or not to have the home and away win percentages in public or private variables: in public variables they are easier to access and don't require a function call; in private variables they are protected from mischief"
      ],
      "metadata": {
        "id": "mKeCq8fqcwar"
      }
    },
    {
      "cell_type": "code",
      "execution_count": 1,
      "metadata": {
        "colab": {
          "base_uri": "https://localhost:8080/",
          "height": 159
        },
        "id": "2mCNbNc4Chjy",
        "outputId": "532b4eab-a1bf-4649-a1dc-87c000d95a75"
      },
      "outputs": [
        {
          "output_type": "execute_result",
          "data": {
            "text/plain": [
              "Available line magics:\n",
              "%alias  %alias_magic  %autocall  %automagic  %autosave  %bookmark  %cat  %cd  %clear  %colors  %config  %connect_info  %cp  %debug  %dhist  %dirs  %doctest_mode  %ed  %edit  %env  %gui  %hist  %history  %killbgscripts  %ldir  %less  %lf  %lk  %ll  %load  %load_ext  %loadpy  %logoff  %logon  %logstart  %logstate  %logstop  %ls  %lsmagic  %lx  %macro  %magic  %man  %matplotlib  %mkdir  %more  %mv  %notebook  %page  %pastebin  %pdb  %pdef  %pdoc  %pfile  %pinfo  %pinfo2  %pip  %popd  %pprint  %precision  %profile  %prun  %psearch  %psource  %pushd  %pwd  %pycat  %pylab  %qtconsole  %quickref  %recall  %rehashx  %reload_ext  %rep  %rerun  %reset  %reset_selective  %rm  %rmdir  %run  %save  %sc  %set_env  %shell  %store  %sx  %system  %tb  %tensorflow_version  %time  %timeit  %unalias  %unload_ext  %who  %who_ls  %whos  %xdel  %xmode\n",
              "\n",
              "Available cell magics:\n",
              "%%!  %%HTML  %%SVG  %%bash  %%bigquery  %%capture  %%debug  %%file  %%html  %%javascript  %%js  %%latex  %%perl  %%prun  %%pypy  %%python  %%python2  %%python3  %%ruby  %%script  %%sh  %%shell  %%svg  %%sx  %%system  %%time  %%timeit  %%writefile\n",
              "\n",
              "Automagic is ON, % prefix IS NOT needed for line magics."
            ],
            "application/json": {
              "line": {
                "automagic": "AutoMagics",
                "autocall": "AutoMagics",
                "alias_magic": "BasicMagics",
                "lsmagic": "BasicMagics",
                "magic": "BasicMagics",
                "page": "BasicMagics",
                "profile": "BasicMagics",
                "pprint": "BasicMagics",
                "colors": "BasicMagics",
                "xmode": "BasicMagics",
                "quickref": "BasicMagics",
                "doctest_mode": "BasicMagics",
                "gui": "BasicMagics",
                "precision": "BasicMagics",
                "notebook": "BasicMagics",
                "save": "CodeMagics",
                "pastebin": "CodeMagics",
                "loadpy": "CodeMagics",
                "load": "CodeMagics",
                "edit": "KernelMagics",
                "config": "ConfigMagics",
                "prun": "ExecutionMagics",
                "pdb": "ExecutionMagics",
                "debug": "ExecutionMagics",
                "tb": "ExecutionMagics",
                "run": "ExecutionMagics",
                "timeit": "ExecutionMagics",
                "time": "ExecutionMagics",
                "macro": "ExecutionMagics",
                "load_ext": "ExtensionMagics",
                "unload_ext": "ExtensionMagics",
                "reload_ext": "ExtensionMagics",
                "history": "HistoryMagics",
                "recall": "HistoryMagics",
                "rerun": "HistoryMagics",
                "logstart": "LoggingMagics",
                "logstop": "LoggingMagics",
                "logoff": "LoggingMagics",
                "logon": "LoggingMagics",
                "logstate": "LoggingMagics",
                "pinfo": "NamespaceMagics",
                "pinfo2": "NamespaceMagics",
                "pdef": "NamespaceMagics",
                "pdoc": "NamespaceMagics",
                "psource": "NamespaceMagics",
                "pfile": "NamespaceMagics",
                "psearch": "NamespaceMagics",
                "who_ls": "NamespaceMagics",
                "who": "NamespaceMagics",
                "whos": "NamespaceMagics",
                "reset": "NamespaceMagics",
                "reset_selective": "NamespaceMagics",
                "xdel": "NamespaceMagics",
                "alias": "OSMagics",
                "unalias": "OSMagics",
                "rehashx": "OSMagics",
                "pwd": "OSMagics",
                "cd": "OSMagics",
                "env": "OSMagics",
                "set_env": "OSMagics",
                "pushd": "OSMagics",
                "popd": "OSMagics",
                "dirs": "OSMagics",
                "dhist": "OSMagics",
                "sc": "OSMagics",
                "sx": "OSMagics",
                "system": "OSMagics",
                "bookmark": "OSMagics",
                "pycat": "OSMagics",
                "matplotlib": "PylabMagics",
                "pylab": "PylabMagics",
                "killbgscripts": "ScriptMagics",
                "ed": "Other",
                "hist": "Other",
                "rep": "Other",
                "clear": "KernelMagics",
                "less": "KernelMagics",
                "more": "KernelMagics",
                "man": "KernelMagics",
                "connect_info": "KernelMagics",
                "qtconsole": "KernelMagics",
                "autosave": "KernelMagics",
                "mkdir": "Other",
                "rmdir": "Other",
                "mv": "Other",
                "rm": "Other",
                "cp": "Other",
                "cat": "Other",
                "ls": "Other",
                "ll": "Other",
                "lf": "Other",
                "lk": "Other",
                "ldir": "Other",
                "lx": "Other",
                "store": "StoreMagics",
                "shell": "Other",
                "pip": "Other",
                "tensorflow_version": "Other"
              },
              "cell": {
                "js": "DisplayMagics",
                "javascript": "DisplayMagics",
                "latex": "DisplayMagics",
                "svg": "DisplayMagics",
                "html": "DisplayMagics",
                "prun": "ExecutionMagics",
                "debug": "ExecutionMagics",
                "timeit": "ExecutionMagics",
                "time": "ExecutionMagics",
                "capture": "ExecutionMagics",
                "sx": "OSMagics",
                "system": "OSMagics",
                "!": "OSMagics",
                "writefile": "OSMagics",
                "script": "ScriptMagics",
                "sh": "Other",
                "bash": "Other",
                "perl": "Other",
                "ruby": "Other",
                "python": "Other",
                "python2": "Other",
                "python3": "Other",
                "pypy": "Other",
                "SVG": "Other",
                "HTML": "Other",
                "file": "Other",
                "bigquery": "Other",
                "shell": "Other"
              }
            }
          },
          "metadata": {},
          "execution_count": 1
        }
      ],
      "source": [
        "%lsmagic"
      ]
    },
    {
      "cell_type": "code",
      "source": [
        "%%writefile CalcWinPercentage.cpp\n",
        "\n",
        "#include <iostream>\n",
        "#include <cstring>\n",
        "#include <cstdlib>\n",
        "#include <string>\n",
        "#include <cmath>\n",
        "\n",
        "using namespace std;\n",
        "\n",
        "class CalcWinPercentage\n",
        "{\n",
        "    public:\n",
        "        void calc(double homeAtk, double homeDef, double awayAtk, double awayDef);\n",
        "        void reset() {\n",
        "            homewin = 0.0;\n",
        "            awaywin = 0.0;\n",
        "        }\n",
        "        double homewinpercentage() {return homewin;}\n",
        "        double awaywinpercentage() {return awaywin;}\n",
        "        \n",
        "        const float avgGoals = 1.36;\n",
        " \n",
        "    private:\n",
        "        double homewin, awaywin;\n",
        "};\n",
        "\n",
        "void CalcWinPercentage::calc(double homeAtk, double homeDef, double awayAtk, double awayDef)\n",
        "{\n",
        "    int i, j;\n",
        "    float scoreChance;\n",
        "    homewin = 0;\n",
        "    awaywin = 0;\n",
        " \n",
        "}\n",
        "\n",
        "// Define C functions for the C++ class that can be accessed by ctypes\n",
        "\n",
        "extern \"C\"\n",
        "{\n",
        "    CalcWinPercentage* CWP_new() {return new CalcWinPercentage();}\n",
        "    void CWP_calc(CalcWinPercentage* cwp, double ha, double hd, double aa, double ad) {cwp->calc(ha, hd, aa, ad);}\n",
        "    void CWP_reset(CalcWinPercentage* cwp) {cwp->reset();}\n",
        "    double CWP_homewinpercentage(CalcWinPercentage* cwp) {return cwp->homewinpercentage();}\n",
        "    double CWP_awaywinpercentage(CalcWinPercentage* cwp) {return cwp->awaywinpercentage();}\n",
        "}"
      ],
      "metadata": {
        "colab": {
          "base_uri": "https://localhost:8080/"
        },
        "id": "m36l1LMSahqO",
        "outputId": "eaceb091-dd1d-442e-f378-b6309b4745df"
      },
      "execution_count": 40,
      "outputs": [
        {
          "output_type": "stream",
          "name": "stdout",
          "text": [
            "Overwriting CalcWinPercentage.cpp\n"
          ]
        }
      ]
    },
    {
      "cell_type": "code",
      "source": [
        "!g++ -c -fPIC CalcWinPercentage.cpp -o CalcWinPercentage.o\n",
        "!gcc -shared -o libCalcWinPercentage.so CalcWinPercentage.o\n",
        "!ls -l"
      ],
      "metadata": {
        "colab": {
          "base_uri": "https://localhost:8080/"
        },
        "id": "UWey1PgbGDFS",
        "outputId": "fb23ef4c-38db-4ba8-c2a7-6245033827e2"
      },
      "execution_count": 41,
      "outputs": [
        {
          "output_type": "stream",
          "name": "stdout",
          "text": [
            "total 36\n",
            "-rw-r--r-- 1 root root  1214 Jun 26 22:06 CalcWinPercentage.cpp\n",
            "-rw-r--r-- 1 root root  5120 Jun 26 22:06 CalcWinPercentage.o\n",
            "drwx------ 5 root root  4096 Jun 26 18:54 drive\n",
            "-rwxr-xr-x 1 root root 12912 Jun 26 22:06 libCalcWinPercentage.so\n",
            "drwxr-xr-x 1 root root  4096 Jun 15 13:42 sample_data\n"
          ]
        }
      ]
    },
    {
      "cell_type": "code",
      "source": [
        "import ctypes\n",
        "import numpy as np\n",
        "import pandas as pd\n",
        "\n",
        "lib = ctypes.cdll.LoadLibrary('/content/libCalcWinPercentage.so')\n",
        "\n",
        "class CalcWinPercentage:\n",
        "  def __init__(self):\n",
        "    lib.CWP_new.restype = ctypes.c_void_p\n",
        "\n",
        "    lib.CWP_calc.argtypes = [ctypes.c_void_p, ctypes.c_double, ctypes.c_double, ctypes.c_double, ctypes.c_double]\n",
        "    lib.CWP_calc.restype = ctypes.c_void_p\n",
        "\n",
        "    lib.CWP_reset.argtypes = [ctypes.c_void_p]\n",
        "    lib.CWP_reset.restype = ctypes.c_void_p\n",
        "\n",
        "    lib.CWP_homewinpercentage.argtypes = [ctypes.c_void_p]\n",
        "    lib.CWP_homewinpercentage.restype = ctypes.c_double\n",
        "\n",
        "    lib.CWP_awaywinpercentage.argtypes = [ctypes.c_void_p]\n",
        "    lib.CWP_awaywinpercentage.restype = ctypes.c_double\n",
        "\n",
        "    self.obj = lib.CWP_new()\n",
        "\n",
        "  def calc(self, ha, hd, aa, ad):\n",
        "    lib.CWP_calc(self.obj, ha, hd, aa, ad)\n",
        "\n",
        "  def reset(self):\n",
        "    lib.CWP_reset(self.obj)\n",
        "\n",
        "  def homewinpercentage(self):\n",
        "    return lib.CWP_homewinpercentage(self.obj)\n",
        "\n",
        "  def awaywinpercentage(self):\n",
        "    return lib.CWP_awaywinpercentage(self.obj)\n",
        "\n",
        "# from lib import CalcWinPercentage\n",
        "\n",
        "# Code block will analyze EPL data\n",
        "# Load the data into variables\n",
        "spi_global_ranking = pd.read_csv('/content/drive/My Drive/Sports Data Analysis/Soccer Data/538 SPI Data/spi_global_rankings.csv')\n",
        "spi_matches = pd.read_csv('/content/drive/My Drive/Sports Data Analysis/Soccer Data/538 SPI Data/spi_matches.csv')\n",
        "spi_matches_latest = pd.read_csv('/content/drive/My Drive/Sports Data Analysis/Soccer Data/538 SPI Data/spi_matches_latest.csv')\n",
        "\n",
        "EPL_match_odds_1920 = pd.read_csv('/content/drive/My Drive/Sports Data Analysis/Soccer Data/EPL Betting Odds 2019 2020.csv')\n",
        "EPL_match_odds_1819 = pd.read_csv('/content/drive/My Drive/Sports Data Analysis/Soccer Data/EPL Betting Odds 2018 2019.csv')\n",
        "EPL_match_odds_1718 = pd.read_csv('/content/drive/My Drive/Sports Data Analysis/Soccer Data/EPL Betting Odds 2017 2018.csv')\n",
        "EPL_match_odds_1617 = pd.read_csv('/content/drive/My Drive/Sports Data Analysis/Soccer Data/EPL Betting Odds 2016 2017.csv')\n",
        "\n",
        "# This section stores the data I want to use regarding betting markets in a new dataframe\n",
        "keep_cols = ['HomeTeam', 'AwayTeam', 'B365H', 'B365A', 'B365D', 'FTR', 'HTR']\n",
        "EPL_match_odds = EPL_match_odds_1617[keep_cols].sort_values(['HomeTeam', 'AwayTeam'])\n",
        "EPL_match_odds = EPL_match_odds.append(EPL_match_odds_1718[keep_cols].sort_values(['HomeTeam', 'AwayTeam']))\n",
        "EPL_match_odds = EPL_match_odds.append(EPL_match_odds_1819[keep_cols].sort_values(['HomeTeam', 'AwayTeam']))\n",
        "EPL_match_odds = EPL_match_odds.append(EPL_match_odds_1920[keep_cols].sort_values(['HomeTeam', 'AwayTeam']))\n",
        "\n",
        "# This section converts the data into usable forms\n",
        "# Converting between decimal odds and implied probability is just y = 1/x\n",
        "EPL_match_odds['B365A'] = EPL_match_odds['B365A'].apply(lambda x: 1/x)\n",
        "EPL_match_odds['B365D'] = EPL_match_odds['B365D'].apply(lambda x: 1/x)\n",
        "EPL_match_odds['B365H'] = EPL_match_odds['B365H'].apply(lambda x: 1/x)\n",
        "\n",
        "spi_matches_EPL = spi_matches[spi_matches['league'] == 'Barclays Premier League']\n",
        "spi_matches_EPL = spi_matches_EPL[spi_matches_EPL['season'] != 2020]\n",
        "spi_matches_EPL = spi_matches_EPL.replace(to_replace='AFC Bournemouth', value='Bournemouth').sort_values(['season', 'team1', 'team2'])\n",
        "\n",
        "# This block will load the data I'm using into a new dataframe to make it easier to manipulate\n",
        "# The odds in the odds_comparison dataframe represent the difference between SPI match\n",
        "# probability and the line offered at Bet365. Positive numbers represent +EV\n",
        "home_odds = np.array(spi_matches_EPL['prob1']) - np.array(EPL_match_odds['B365H'])\n",
        "home_odds = [round(x*100, 2) for x in home_odds]\n",
        "\n",
        "away_odds = np.array(spi_matches_EPL['prob2']) - np.array(EPL_match_odds['B365A'])\n",
        "away_odds = [round(x*100, 2) for x in away_odds]\n",
        "\n",
        "draw_odds = np.array(spi_matches_EPL['probtie']) - np.array(EPL_match_odds['B365D'])\n",
        "draw_odds = [round(x*100, 2) for x in draw_odds]\n",
        "\n",
        "odds_comparison = pd.DataFrame({'Season': spi_matches_EPL['season'],\n",
        "                                'Home Team': spi_matches_EPL['team1'],\n",
        "                                'Away Team': spi_matches_EPL['team2'],\n",
        "                                'Home Edge': home_odds,\n",
        "                                'Away Edge': away_odds,\n",
        "                                'Draw Edge': draw_odds,\n",
        "                                'Result': np.array(EPL_match_odds['FTR'])})\n",
        "\n",
        "cwp = CalcWinPercentage()\n",
        "cwp.calc(4, 5, 6, 7)\n",
        "print(cwp.awaywinpercentage())\n",
        "cwp.reset()\n",
        "print(cwp.awaywinpercentage())"
      ],
      "metadata": {
        "colab": {
          "base_uri": "https://localhost:8080/"
        },
        "id": "ZIOYPFAtZQqS",
        "outputId": "15299313-089c-47f4-802e-f7a5e3dc2c37"
      },
      "execution_count": 75,
      "outputs": [
        {
          "output_type": "stream",
          "name": "stdout",
          "text": [
            "0.45\n",
            "0.0\n"
          ]
        }
      ]
    },
    {
      "cell_type": "markdown",
      "source": [
        "At this point, my C++ code works in the python script. I'll use it to add a column to a dataframe that has many rows to test speed.\n",
        "\n",
        "Research that needs to be done: figuring out how to calculate expected goals scored given the home teams attack rating and the away teams defensive rating. [This article](http://blog.philbirnbaum.com/2016/01/when-log5-does-and-doesnt-work.html) is an excellent primer on the log 5 method, which Bill James proposed as a way to calculate win percentages in baseball given a team's underlying talent. This needs to be tested more for it's application to soccer.\n",
        "\n",
        "To test this, I can plot expected goals scored vs actual goals scored. This will be my jumpting off point towards building the calc function that is the engine of the CalcWinPercentage class."
      ],
      "metadata": {
        "id": "QLZT2KXNu1wu"
      }
    }
  ]
}