{
  "nbformat": 4,
  "nbformat_minor": 0,
  "metadata": {
    "colab": {
      "name": "CalcWinPercentage.ipynb",
      "provenance": [],
      "collapsed_sections": [],
      "mount_file_id": "1hZkN7wbOItharvu3xiNclRcEK663eeYA",
      "authorship_tag": "ABX9TyMLKWrWFs0QLlo1lwun+TQl",
      "include_colab_link": true
    },
    "kernelspec": {
      "name": "python3",
      "display_name": "Python 3"
    },
    "language_info": {
      "name": "python"
    }
  },
  "cells": [
    {
      "cell_type": "markdown",
      "metadata": {
        "id": "view-in-github",
        "colab_type": "text"
      },
      "source": [
        "<a href=\"https://colab.research.google.com/github/dtmeyers/Soccer-Data-Analysis/blob/main/CalcWinPercentage.ipynb\" target=\"_parent\"><img src=\"https://colab.research.google.com/assets/colab-badge.svg\" alt=\"Open In Colab\"/></a>"
      ]
    },
    {
      "cell_type": "markdown",
      "source": [
        "To use C++ code in python, we have to build a class in C++ and then export it as a library that python can read. [This](https://www.auctoris.co.uk/2017/04/29/calling-c-classes-from-python-with-ctypes/) article makes that library.so and then uses ctypes when calling the class and passing it variables in python. [This](https://iq.opengenus.org/create-shared-library-in-cpp/) article has an alternate way of creating the library that is much simpler.\n",
        "\n",
        "The way I structures this notebook to do soccer analysis is to write the file in a code cell here, then import it from the following code cell (stored in Drive). The class takes in 4 variables upon creation: home and away team atk and def ratings. Upon construction, the class calculates home and away win percentages, which can each be returned with a function call.\n",
        "\n",
        "To test this, I can use values from the World Cup simulator, which will make the declarations in python trivial and avoid a significant amount of data manipulation."
      ],
      "metadata": {
        "id": "mKeCq8fqcwar"
      }
    },
    {
      "cell_type": "code",
      "execution_count": null,
      "metadata": {
        "colab": {
          "base_uri": "https://localhost:8080/",
          "height": 159
        },
        "id": "2mCNbNc4Chjy",
        "outputId": "532b4eab-a1bf-4649-a1dc-87c000d95a75"
      },
      "outputs": [
        {
          "output_type": "execute_result",
          "data": {
            "text/plain": [
              "Available line magics:\n",
              "%alias  %alias_magic  %autocall  %automagic  %autosave  %bookmark  %cat  %cd  %clear  %colors  %config  %connect_info  %cp  %debug  %dhist  %dirs  %doctest_mode  %ed  %edit  %env  %gui  %hist  %history  %killbgscripts  %ldir  %less  %lf  %lk  %ll  %load  %load_ext  %loadpy  %logoff  %logon  %logstart  %logstate  %logstop  %ls  %lsmagic  %lx  %macro  %magic  %man  %matplotlib  %mkdir  %more  %mv  %notebook  %page  %pastebin  %pdb  %pdef  %pdoc  %pfile  %pinfo  %pinfo2  %pip  %popd  %pprint  %precision  %profile  %prun  %psearch  %psource  %pushd  %pwd  %pycat  %pylab  %qtconsole  %quickref  %recall  %rehashx  %reload_ext  %rep  %rerun  %reset  %reset_selective  %rm  %rmdir  %run  %save  %sc  %set_env  %shell  %store  %sx  %system  %tb  %tensorflow_version  %time  %timeit  %unalias  %unload_ext  %who  %who_ls  %whos  %xdel  %xmode\n",
              "\n",
              "Available cell magics:\n",
              "%%!  %%HTML  %%SVG  %%bash  %%bigquery  %%capture  %%debug  %%file  %%html  %%javascript  %%js  %%latex  %%perl  %%prun  %%pypy  %%python  %%python2  %%python3  %%ruby  %%script  %%sh  %%shell  %%svg  %%sx  %%system  %%time  %%timeit  %%writefile\n",
              "\n",
              "Automagic is ON, % prefix IS NOT needed for line magics."
            ],
            "application/json": {
              "line": {
                "automagic": "AutoMagics",
                "autocall": "AutoMagics",
                "alias_magic": "BasicMagics",
                "lsmagic": "BasicMagics",
                "magic": "BasicMagics",
                "page": "BasicMagics",
                "profile": "BasicMagics",
                "pprint": "BasicMagics",
                "colors": "BasicMagics",
                "xmode": "BasicMagics",
                "quickref": "BasicMagics",
                "doctest_mode": "BasicMagics",
                "gui": "BasicMagics",
                "precision": "BasicMagics",
                "notebook": "BasicMagics",
                "save": "CodeMagics",
                "pastebin": "CodeMagics",
                "loadpy": "CodeMagics",
                "load": "CodeMagics",
                "edit": "KernelMagics",
                "config": "ConfigMagics",
                "prun": "ExecutionMagics",
                "pdb": "ExecutionMagics",
                "debug": "ExecutionMagics",
                "tb": "ExecutionMagics",
                "run": "ExecutionMagics",
                "timeit": "ExecutionMagics",
                "time": "ExecutionMagics",
                "macro": "ExecutionMagics",
                "load_ext": "ExtensionMagics",
                "unload_ext": "ExtensionMagics",
                "reload_ext": "ExtensionMagics",
                "history": "HistoryMagics",
                "recall": "HistoryMagics",
                "rerun": "HistoryMagics",
                "logstart": "LoggingMagics",
                "logstop": "LoggingMagics",
                "logoff": "LoggingMagics",
                "logon": "LoggingMagics",
                "logstate": "LoggingMagics",
                "pinfo": "NamespaceMagics",
                "pinfo2": "NamespaceMagics",
                "pdef": "NamespaceMagics",
                "pdoc": "NamespaceMagics",
                "psource": "NamespaceMagics",
                "pfile": "NamespaceMagics",
                "psearch": "NamespaceMagics",
                "who_ls": "NamespaceMagics",
                "who": "NamespaceMagics",
                "whos": "NamespaceMagics",
                "reset": "NamespaceMagics",
                "reset_selective": "NamespaceMagics",
                "xdel": "NamespaceMagics",
                "alias": "OSMagics",
                "unalias": "OSMagics",
                "rehashx": "OSMagics",
                "pwd": "OSMagics",
                "cd": "OSMagics",
                "env": "OSMagics",
                "set_env": "OSMagics",
                "pushd": "OSMagics",
                "popd": "OSMagics",
                "dirs": "OSMagics",
                "dhist": "OSMagics",
                "sc": "OSMagics",
                "sx": "OSMagics",
                "system": "OSMagics",
                "bookmark": "OSMagics",
                "pycat": "OSMagics",
                "matplotlib": "PylabMagics",
                "pylab": "PylabMagics",
                "killbgscripts": "ScriptMagics",
                "ed": "Other",
                "hist": "Other",
                "rep": "Other",
                "clear": "KernelMagics",
                "less": "KernelMagics",
                "more": "KernelMagics",
                "man": "KernelMagics",
                "connect_info": "KernelMagics",
                "qtconsole": "KernelMagics",
                "autosave": "KernelMagics",
                "mkdir": "Other",
                "rmdir": "Other",
                "mv": "Other",
                "rm": "Other",
                "cp": "Other",
                "cat": "Other",
                "ls": "Other",
                "ll": "Other",
                "lf": "Other",
                "lk": "Other",
                "ldir": "Other",
                "lx": "Other",
                "store": "StoreMagics",
                "shell": "Other",
                "pip": "Other",
                "tensorflow_version": "Other"
              },
              "cell": {
                "js": "DisplayMagics",
                "javascript": "DisplayMagics",
                "latex": "DisplayMagics",
                "svg": "DisplayMagics",
                "html": "DisplayMagics",
                "prun": "ExecutionMagics",
                "debug": "ExecutionMagics",
                "timeit": "ExecutionMagics",
                "time": "ExecutionMagics",
                "capture": "ExecutionMagics",
                "sx": "OSMagics",
                "system": "OSMagics",
                "!": "OSMagics",
                "writefile": "OSMagics",
                "script": "ScriptMagics",
                "sh": "Other",
                "bash": "Other",
                "perl": "Other",
                "ruby": "Other",
                "python": "Other",
                "python2": "Other",
                "python3": "Other",
                "pypy": "Other",
                "SVG": "Other",
                "HTML": "Other",
                "file": "Other",
                "bigquery": "Other",
                "shell": "Other"
              }
            }
          },
          "metadata": {},
          "execution_count": 1
        }
      ],
      "source": [
        "%lsmagic"
      ]
    },
    {
      "cell_type": "code",
      "source": [
        "%%writefile CalcWinPercentage.cpp\n",
        "\n",
        "#include <iostream>\n",
        "#include <cstring>\n",
        "#include <cstdlib>\n",
        "#include <string>\n",
        "#include <cmath>\n",
        "\n",
        "using namespace std;\n",
        "\n",
        "class CalcWinPercentage {\n",
        "    public:\n",
        "        CalcWinPercentage(double homeAtk, double homeDef, double awayAtk, double awayDef);\n",
        "        void calc(double homeAtk, double homeDef, double awayAtk, double awayDef);\n",
        "        void reset() {\n",
        "            homewin = 0.0;\n",
        "            awaywin = 0.0;\n",
        "        }\n",
        "        double homewinpercentage() {return homewin;}\n",
        "        double awaywinpercentage() {return awaywin;}\n",
        "        int factorial (int num);\n",
        "        \n",
        "        const float avgGoals = 1.56;\n",
        " \n",
        "    private:\n",
        "        double homewin, awaywin;\n",
        "};\n",
        "\n",
        "CalcWinPercentage::CalcWinPercentage(double homeAtk, double homeDef, double awayAtk, double awayDef) {\n",
        "    homewin = 0;\n",
        "    awaywin = 0;\n",
        "\n",
        "    int i, j;\n",
        "    float scoreChance, homeExpGoals, awayExpGoals;\n",
        " \n",
        "    // this is broken because the formula is based on percentages, so 1 - x is positive\n",
        "    homeExpGoals = ((homeAtk * awayDef) / avgGoals) / ((homeAtk * awayDef) / avgGoals + (avgGoals/ (homeAtk * awayDef)));\n",
        "    awayExpGoals = ((awayAtk * homeDef) / avgGoals) / ((awayAtk * homeDef) / avgGoals + ((1 - awayAtk) * (1 - homeDef) / (1 - avgGoals)));\n",
        " \n",
        "    for (i = 0; i < 8; i++) {\n",
        "        for (j = 0; j < 8; j++) {\n",
        "            scoreChance = pow(homeExpGoals, i) * pow(awayExpGoals, j) * exp(-(homeExpGoals + awayExpGoals)) / (factorial(i) * factorial(j));\n",
        "            if (i > j) {\n",
        "                homewin += scoreChance;\n",
        "            }\n",
        "            if (j > i) {\n",
        "                awaywin += scoreChance;\n",
        "            }\n",
        "        }\n",
        "    }\n",
        "\n",
        "    homewin = homeExpGoals;\n",
        "    awaywin = awayExpGoals;\n",
        "}\n",
        "\n",
        "void CalcWinPercentage::calc(double homeAtk, double homeDef, double awayAtk, double awayDef) {\n",
        "    int i, j;\n",
        "    float scoreChance;\n",
        "    homewin = 0;\n",
        "    awaywin = 4.5;\n",
        " \n",
        "}\n",
        "\n",
        "int CalcWinPercentage::factorial (int num) {\n",
        "    int result = 1;\n",
        "    if (num > 0) {\n",
        "        for (int i = num; i > 1; i--) {\n",
        "            result *= i;\n",
        "        }\n",
        "    }\n",
        "    return result;\n",
        "}\n",
        "\n",
        "// Define C functions for the C++ class that can be accessed by ctypes\n",
        "\n",
        "extern \"C\"\n",
        "{\n",
        "    CalcWinPercentage* CWP_new(double ha, double hd, double aa, double ad) {return new CalcWinPercentage(ha, hd, aa, ad);}\n",
        "    void CWP_calc(CalcWinPercentage* cwp, double ha, double hd, double aa, double ad) {cwp->calc(ha, hd, aa, ad);}\n",
        "    void CWP_reset(CalcWinPercentage* cwp) {cwp->reset();}\n",
        "    double CWP_homewinpercentage(CalcWinPercentage* cwp) {return cwp->homewinpercentage();}\n",
        "    double CWP_awaywinpercentage(CalcWinPercentage* cwp) {return cwp->awaywinpercentage();}\n",
        "    int CWP_factorial(CalcWinPercentage* cwp, int num) {return cwp->factorial(num);}\n",
        "}"
      ],
      "metadata": {
        "colab": {
          "base_uri": "https://localhost:8080/"
        },
        "id": "m36l1LMSahqO",
        "outputId": "e8ae435b-d822-4132-cb4d-b8244c17dbe4"
      },
      "execution_count": 1,
      "outputs": [
        {
          "output_type": "stream",
          "name": "stdout",
          "text": [
            "Writing CalcWinPercentage.cpp\n"
          ]
        }
      ]
    },
    {
      "cell_type": "code",
      "source": [
        "!rm libCalcWinPercentage.so\n",
        "!rm CalcWinPercentage.o\n",
        "!ls -l"
      ],
      "metadata": {
        "colab": {
          "base_uri": "https://localhost:8080/"
        },
        "id": "AyKkrYft-rSp",
        "outputId": "c17133e0-e0b2-46f9-c9f7-4dd07e4f8ca3"
      },
      "execution_count": null,
      "outputs": [
        {
          "output_type": "stream",
          "name": "stdout",
          "text": [
            "rm: cannot remove 'libCalcWinPercentage.so': No such file or directory\n",
            "rm: cannot remove 'CalcWinPercentage.o': No such file or directory\n",
            "total 12\n",
            "-rw-r--r-- 1 root root 2649 Jul 10 03:14 CalcWinPercentage.cpp\n",
            "drwx------ 5 root root 4096 Jul 10 03:08 drive\n",
            "drwxr-xr-x 1 root root 4096 Jul  6 13:22 sample_data\n"
          ]
        }
      ]
    },
    {
      "cell_type": "code",
      "source": [
        "!g++ -c -fPIC CalcWinPercentage.cpp -o CalcWinPercentage.o\n",
        "!gcc -shared -o libCalcWinPercentage.so CalcWinPercentage.o\n",
        "!ls -l"
      ],
      "metadata": {
        "colab": {
          "base_uri": "https://localhost:8080/"
        },
        "id": "UWey1PgbGDFS",
        "outputId": "08a4b5f6-96d5-46c8-bf2d-37728aa11b78"
      },
      "execution_count": 2,
      "outputs": [
        {
          "output_type": "stream",
          "name": "stdout",
          "text": [
            "total 36\n",
            "-rw-r--r-- 1 root root  2660 Jul 11 00:48 CalcWinPercentage.cpp\n",
            "-rw-r--r-- 1 root root  7952 Jul 11 00:48 CalcWinPercentage.o\n",
            "drwx------ 5 root root  4096 Jul 11 00:48 drive\n",
            "-rwxr-xr-x 1 root root 13608 Jul 11 00:48 libCalcWinPercentage.so\n",
            "drwxr-xr-x 1 root root  4096 Jul  6 13:22 sample_data\n"
          ]
        }
      ]
    },
    {
      "cell_type": "code",
      "source": [
        "from mpl_toolkits import mplot3d\n",
        "import ctypes\n",
        "import numpy as np\n",
        "import pandas as pd\n",
        "import matplotlib.pyplot as plt\n",
        "\n",
        "lib = ctypes.cdll.LoadLibrary('/content/libCalcWinPercentage.so')\n",
        "\n",
        "class CalcWinPercentage:\n",
        "  def __init__(self, ha, hd, aa, ad):\n",
        "    lib.CWP_new.argtypes = [ctypes.c_double, ctypes.c_double, ctypes.c_double, ctypes.c_double]\n",
        "    lib.CWP_new.restype = ctypes.c_void_p\n",
        "\n",
        "    lib.CWP_calc.argtypes = [ctypes.c_void_p, ctypes.c_double, ctypes.c_double, ctypes.c_double, ctypes.c_double]\n",
        "    lib.CWP_calc.restype = ctypes.c_void_p\n",
        "\n",
        "    lib.CWP_reset.argtypes = [ctypes.c_void_p]\n",
        "    lib.CWP_reset.restype = ctypes.c_void_p\n",
        "\n",
        "    lib.CWP_homewinpercentage.argtypes = [ctypes.c_void_p]\n",
        "    lib.CWP_homewinpercentage.restype = ctypes.c_double\n",
        "\n",
        "    lib.CWP_awaywinpercentage.argtypes = [ctypes.c_void_p]\n",
        "    lib.CWP_awaywinpercentage.restype = ctypes.c_double\n",
        "\n",
        "    lib.CWP_factorial.argtypes = [ctypes.c_void_p, ctypes.c_int]\n",
        "    lib.CWP_factorial.restype = ctypes.c_int\n",
        "\n",
        "    self.obj = lib.CWP_new(ha, hd, aa, ad)\n",
        "\n",
        "  def calc(self, ha, hd, aa, ad):\n",
        "    lib.CWP_calc(self.obj, ha, hd, aa, ad)\n",
        "\n",
        "  def reset(self):\n",
        "    lib.CWP_reset(self.obj)\n",
        "\n",
        "  def homewinpercentage(self):\n",
        "    return lib.CWP_homewinpercentage(self.obj)\n",
        "\n",
        "  def awaywinpercentage(self):\n",
        "    return lib.CWP_awaywinpercentage(self.obj)\n",
        "\n",
        "# from lib import CalcWinPercentage\n",
        "\n",
        "# Code block will analyze EPL data\n",
        "# Load the data into variables\n",
        "spi_global_ranking = pd.read_csv('/content/drive/My Drive/Sports Data Analysis/Soccer Data/538 SPI Data/spi_global_rankings.csv')\n",
        "spi_matches = pd.read_csv('/content/drive/My Drive/Sports Data Analysis/Soccer Data/538 SPI Data/spi_matches.csv')\n",
        "spi_matches_latest = pd.read_csv('/content/drive/My Drive/Sports Data Analysis/Soccer Data/538 SPI Data/spi_matches_latest.csv')\n",
        "\n",
        "EPL_match_odds_2122 = pd.read_csv('/content/drive/My Drive/Sports Data Analysis/Soccer Data/EPL Betting Odds 2021 2022.csv')\n",
        "EPL_match_odds_2021 = pd.read_csv('/content/drive/My Drive/Sports Data Analysis/Soccer Data/EPL Betting Odds 2020 2021.csv')\n",
        "EPL_match_odds_1920 = pd.read_csv('/content/drive/My Drive/Sports Data Analysis/Soccer Data/EPL Betting Odds 2019 2020.csv')\n",
        "EPL_match_odds_1819 = pd.read_csv('/content/drive/My Drive/Sports Data Analysis/Soccer Data/EPL Betting Odds 2018 2019.csv')\n",
        "EPL_match_odds_1718 = pd.read_csv('/content/drive/My Drive/Sports Data Analysis/Soccer Data/EPL Betting Odds 2017 2018.csv')\n",
        "EPL_match_odds_1617 = pd.read_csv('/content/drive/My Drive/Sports Data Analysis/Soccer Data/EPL Betting Odds 2016 2017.csv')\n",
        "\n",
        "# This section stores the data I want to use regarding betting markets in a new dataframe\n",
        "keep_cols = ['HomeTeam', 'AwayTeam', 'B365H', 'B365A', 'B365D', 'FTR', 'HTR']\n",
        "EPL_match_odds = EPL_match_odds_1617[keep_cols].sort_values(['HomeTeam', 'AwayTeam'])\n",
        "EPL_match_odds = EPL_match_odds.append(EPL_match_odds_1718[keep_cols].sort_values(['HomeTeam', 'AwayTeam']))\n",
        "EPL_match_odds = EPL_match_odds.append(EPL_match_odds_1819[keep_cols].sort_values(['HomeTeam', 'AwayTeam']))\n",
        "EPL_match_odds = EPL_match_odds.append(EPL_match_odds_1920[keep_cols].sort_values(['HomeTeam', 'AwayTeam']))\n",
        "EPL_match_odds = EPL_match_odds.append(EPL_match_odds_2021[keep_cols].sort_values(['HomeTeam', 'AwayTeam']))\n",
        "EPL_match_odds = EPL_match_odds.append(EPL_match_odds_2122[keep_cols].sort_values(['HomeTeam', 'AwayTeam']))\n",
        "\n",
        "# This section converts the data into usable forms\n",
        "# Converting between decimal odds and implied probability is just y = 1/x\n",
        "EPL_match_odds['B365A'] = EPL_match_odds['B365A'].apply(lambda x: 1/x)\n",
        "EPL_match_odds['B365D'] = EPL_match_odds['B365D'].apply(lambda x: 1/x)\n",
        "EPL_match_odds['B365H'] = EPL_match_odds['B365H'].apply(lambda x: 1/x)\n",
        "\n",
        "spi_matches_EPL = spi_matches[spi_matches['league'] == 'Barclays Premier League']\n",
        "spi_matches_EPL = spi_matches_EPL.replace(to_replace='AFC Bournemouth', value='Bournemouth').sort_values(['season', 'team1', 'team2'])\n",
        "\n",
        "# This block will load the data I'm using into a new dataframe to make it easier to manipulate\n",
        "# The odds in the odds_comparison dataframe represent the difference between SPI match\n",
        "# probability and the line offered at Bet365. Positive numbers represent +EV\n",
        "home_odds = np.array(spi_matches_EPL['prob1']) - np.array(EPL_match_odds['B365H'])\n",
        "home_odds = [round(x*100, 2) for x in home_odds]\n",
        "\n",
        "away_odds = np.array(spi_matches_EPL['prob2']) - np.array(EPL_match_odds['B365A'])\n",
        "away_odds = [round(x*100, 2) for x in away_odds]\n",
        "\n",
        "draw_odds = np.array(spi_matches_EPL['probtie']) - np.array(EPL_match_odds['B365D'])\n",
        "draw_odds = [round(x*100, 2) for x in draw_odds]\n",
        "\n",
        "odds_comparison = pd.DataFrame({'Season': spi_matches_EPL['season'],\n",
        "                                'Home Team': spi_matches_EPL['team1'],\n",
        "                                'Away Team': spi_matches_EPL['team2'],\n",
        "                                'Home Edge': home_odds,\n",
        "                                'Away Edge': away_odds,\n",
        "                                'Draw Edge': draw_odds,\n",
        "                                'Result': np.array(EPL_match_odds['FTR'])})\n",
        "\n",
        "print(spi_matches_EPL.columns)\n",
        "keep_cols = ['date', 'team1', 'team2', 'proj_score1', 'proj_score2', 'score1', 'score2', 'xg1', 'xg2']\n",
        "test_data = spi_matches_EPL[keep_cols].sort_values(['date'])\n",
        "test_data = test_data.dropna()\n",
        "\n",
        "# Arrays to build the DataFrame\n",
        "date = [np.array(test_data['date'])[x+10] for x in range(len(test_data) - 10)]\n",
        "hometeam = [np.array(test_data['team1'])[x+10] for x in range(len(test_data) - 10)]\n",
        "home_goals = [np.array(test_data['xg1'])[x+10] for x in range(len(test_data) - 10)]\n",
        "away_goals = [np.array(test_data['xg2'])[x+10] for x in range(len(test_data) - 10)]\n",
        "awayteam = [np.array(test_data['team2'])[x+10] for x in range(len(test_data) - 10)]\n",
        "\n",
        "# Object to handle data manipulation; initialized to create ratings\n",
        "class CalcTeamRatings:\n",
        "  def __init__(self, home, away, date, df):\n",
        "    self.home = home\n",
        "    self.date = date\n",
        "    self.away = away\n",
        "    self.df = df[df['team1'] == self.home]\n",
        "    self.df = self.df[self.df['date'] < self.date].sort_values(['date'])\n",
        "    self.df = self.df.tail(10)\n",
        "    self.away_df = df[df['team2'] == self.away]\n",
        "    self.away_df = self.away_df[self.away_df['date'] < self.date].sort_values(['date'])\n",
        "    self.away_df = self.away_df.tail(10)\n",
        "  def rollingAvgXG(self):\n",
        "    return self.df['xg1'].sum()/len(self.df)\n",
        "  def rollingAvgXGA(self):\n",
        "    return self.df['xg2'].sum()/len(self.df)\n",
        "  def away_rollingAvgXG(self):\n",
        "    return self.away_df['xg2'].sum()/len(self.away_df)\n",
        "  def away_rollingAvgXGA(self):\n",
        "    return self.away_df['xg1'].sum()/len(self.away_df)\n",
        "\n",
        "def CalcExpectedGoals(team1_atk, team2_def, lg_avg):\n",
        "  return (team1_atk * team2_def / lg_avg)\n",
        "\n",
        "game_data = pd.DataFrame({'Date': np.array(date),\n",
        "                          'Home Team': np.array(hometeam),\n",
        "                          'Away Team': np.array(awayteam),\n",
        "                          'Home Goals': np.array(home_goals),\n",
        "                          'Away Goals': np.array(away_goals)})\n",
        "game_data['Object'] = [CalcTeamRatings(game_data['Home Team'][x], game_data['Away Team'][x], game_data['Date'][x], test_data) for x in range(len(game_data))]\n",
        "game_data['Home Atk'] = [game_data['Object'][x].rollingAvgXG() for x in range(len(game_data))]\n",
        "game_data['Home Def'] = [game_data['Object'][x].rollingAvgXGA() for x in range(len(game_data))]\n",
        "game_data['Away Atk'] = [game_data['Object'][x].away_rollingAvgXG() for x in range(len(game_data))]\n",
        "game_data['Away Def'] = [game_data['Object'][x].away_rollingAvgXGA() for x in range(len(game_data))]\n",
        "game_data['Home xG'] = [CalcExpectedGoals(np.array(game_data['Home Atk'])[x], np.array(game_data['Away Def'])[x], 1.56) for x in range(len(game_data))]\n",
        "game_data['Away xG'] = [CalcExpectedGoals(np.array(game_data['Away Atk'])[x], np.array(game_data['Home Def'])[x], 1.56) for x in range(len(game_data))]\n",
        "\n",
        "fig = plt.figure()\n",
        "ax = plt.axes(projection='3d')\n",
        "xdata = np.array(game_data['Home Atk'])\n",
        "ydata = np.array(game_data['Away Def'])\n",
        "zdata = np.array(home_goals)\n",
        "\n",
        "ax.scatter3D(xdata, ydata, zdata)\n",
        "print(game_data.corr())\n",
        "\n",
        "print(spi_matches['proj_score1'].corr(spi_matches['xg1']))\n",
        "\n",
        "# try taking a team's total xg and xga per game from the data set (I know, it's way too big a sample)\n",
        "# that should provide a reasonable-ish baseline to test\n",
        "# add them to the dataframe in new columns, and play\n",
        "\n",
        "# Test that the library is working\n",
        "#cwp = CalcWinPercentage(4, 5, 6.7, 7)\n",
        "#print(cwp.awaywinpercentage())\n",
        "#print(cwp.homewinpercentage())\n",
        "#cwp.reset()\n",
        "#print(cwp.awaywinpercentage())"
      ],
      "metadata": {
        "colab": {
          "base_uri": "https://localhost:8080/",
          "height": 751
        },
        "id": "ZIOYPFAtZQqS",
        "outputId": "5bda59b2-914a-42a9-8d57-6bfa53323829"
      },
      "execution_count": 30,
      "outputs": [
        {
          "output_type": "stream",
          "name": "stdout",
          "text": [
            "Index(['season', 'date', 'league_id', 'league', 'team1', 'team2', 'spi1',\n",
            "       'spi2', 'prob1', 'prob2', 'probtie', 'proj_score1', 'proj_score2',\n",
            "       'importance1', 'importance2', 'score1', 'score2', 'xg1', 'xg2', 'nsxg1',\n",
            "       'nsxg2', 'adj_score1', 'adj_score2'],\n",
            "      dtype='object')\n"
          ]
        },
        {
          "output_type": "stream",
          "name": "stderr",
          "text": [
            "/usr/local/lib/python3.7/dist-packages/ipykernel_launcher.py:121: RuntimeWarning: invalid value encountered in double_scalars\n",
            "/usr/local/lib/python3.7/dist-packages/ipykernel_launcher.py:123: RuntimeWarning: invalid value encountered in double_scalars\n",
            "/usr/local/lib/python3.7/dist-packages/ipykernel_launcher.py:125: RuntimeWarning: invalid value encountered in double_scalars\n",
            "/usr/local/lib/python3.7/dist-packages/ipykernel_launcher.py:127: RuntimeWarning: invalid value encountered in double_scalars\n"
          ]
        },
        {
          "output_type": "stream",
          "name": "stdout",
          "text": [
            "            Home Goals  Away Goals  Home Atk  Home Def  Away Atk  Away Def  \\\n",
            "Home Goals    1.000000   -0.302693  0.379199 -0.281206 -0.218416  0.221710   \n",
            "Away Goals   -0.302693    1.000000 -0.216805  0.218591  0.372678 -0.249562   \n",
            "Home Atk      0.379199   -0.216805  1.000000 -0.573173  0.016636 -0.017752   \n",
            "Home Def     -0.281206    0.218591 -0.573173  1.000000  0.007599  0.032554   \n",
            "Away Atk     -0.218416    0.372678  0.016636  0.007599  1.000000 -0.538584   \n",
            "Away Def      0.221710   -0.249562 -0.017752  0.032554 -0.538584  1.000000   \n",
            "Home xG       0.437627   -0.317694  0.743105 -0.413149 -0.332583  0.625523   \n",
            "Away xG      -0.327667    0.418557 -0.340521  0.624182  0.755048 -0.383342   \n",
            "\n",
            "             Home xG   Away xG  \n",
            "Home Goals  0.437627 -0.327667  \n",
            "Away Goals -0.317694  0.418557  \n",
            "Home Atk    0.743105 -0.340521  \n",
            "Home Def   -0.413149  0.624182  \n",
            "Away Atk   -0.332583  0.755048  \n",
            "Away Def    0.625523 -0.383342  \n",
            "Home xG     1.000000 -0.491936  \n",
            "Away xG    -0.491936  1.000000  \n",
            "0.4316300716645289\n"
          ]
        },
        {
          "output_type": "display_data",
          "data": {
            "text/plain": [
              "<Figure size 432x288 with 1 Axes>"
            ],
            "image/png": "[encoded data removed]"
          },
          "metadata": {
            "needs_background": "light"
          }
        }
      ]
    },
    {
      "cell_type": "markdown",
      "source": [
        "At this point, my C++ code works in the python script. I'll use it to add a column to a dataframe that has many rows to verify speed.\n",
        "\n",
        "Research that needs to be done: figuring out how to calculate expected goals scored given the home teams attack rating and the away teams defensive rating. [This article](http://blog.philbirnbaum.com/2016/01/when-log5-does-and-doesnt-work.html) is an excellent primer on the log 5 method, which Bill James proposed as a way to calculate win percentages in baseball given a team's underlying talent. This needs to be tested more for it's application to soccer."
      ],
      "metadata": {
        "id": "QLZT2KXNu1wu"
      }
    }
  ]
}