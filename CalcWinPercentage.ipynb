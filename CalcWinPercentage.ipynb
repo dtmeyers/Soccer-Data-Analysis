{
  "cells": [
    {
      "cell_type": "markdown",
      "metadata": {
        "id": "mKeCq8fqcwar"
      },
      "source": [
        "To use C++ code in python, we have to build a class in C++ and then export it as a library that python can read. [This](https://www.auctoris.co.uk/2017/04/29/calling-c-classes-from-python-with-ctypes/) article makes that library.so and then uses ctypes when calling the class and passing it variables in python. [This](https://iq.opengenus.org/create-shared-library-in-cpp/) article has an alternate way of creating the library that is much simpler.\n",
        "\n",
        "The way I structures this notebook to do soccer analysis is to write the file in a code cell here, then import it from the following code cell (stored in Drive). The class takes in 4 variables upon creation: home and away team atk and def ratings. Upon construction, the class calculates home and away win percentages, which can each be returned with a function call.\n",
        "\n",
        "To test this, I can use values from the World Cup simulator, which will make the declarations in python trivial and avoid a significant amount of data manipulation."
      ]
    },
    {
      "cell_type": "code",
      "execution_count": null,
      "metadata": {
        "colab": {
          "base_uri": "https://localhost:8080/",
          "height": 159
        },
        "id": "2mCNbNc4Chjy",
        "outputId": "532b4eab-a1bf-4649-a1dc-87c000d95a75"
      },
      "outputs": [
        {
          "data": {
            "application/json": {
              "cell": {
                "!": "OSMagics",
                "HTML": "Other",
                "SVG": "Other",
                "bash": "Other",
                "bigquery": "Other",
                "capture": "ExecutionMagics",
                "debug": "ExecutionMagics",
                "file": "Other",
                "html": "DisplayMagics",
                "javascript": "DisplayMagics",
                "js": "DisplayMagics",
                "latex": "DisplayMagics",
                "perl": "Other",
                "prun": "ExecutionMagics",
                "pypy": "Other",
                "python": "Other",
                "python2": "Other",
                "python3": "Other",
                "ruby": "Other",
                "script": "ScriptMagics",
                "sh": "Other",
                "shell": "Other",
                "svg": "DisplayMagics",
                "sx": "OSMagics",
                "system": "OSMagics",
                "time": "ExecutionMagics",
                "timeit": "ExecutionMagics",
                "writefile": "OSMagics"
              },
              "line": {
                "alias": "OSMagics",
                "alias_magic": "BasicMagics",
                "autocall": "AutoMagics",
                "automagic": "AutoMagics",
                "autosave": "KernelMagics",
                "bookmark": "OSMagics",
                "cat": "Other",
                "cd": "OSMagics",
                "clear": "KernelMagics",
                "colors": "BasicMagics",
                "config": "ConfigMagics",
                "connect_info": "KernelMagics",
                "cp": "Other",
                "debug": "ExecutionMagics",
                "dhist": "OSMagics",
                "dirs": "OSMagics",
                "doctest_mode": "BasicMagics",
                "ed": "Other",
                "edit": "KernelMagics",
                "env": "OSMagics",
                "gui": "BasicMagics",
                "hist": "Other",
                "history": "HistoryMagics",
                "killbgscripts": "ScriptMagics",
                "ldir": "Other",
                "less": "KernelMagics",
                "lf": "Other",
                "lk": "Other",
                "ll": "Other",
                "load": "CodeMagics",
                "load_ext": "ExtensionMagics",
                "loadpy": "CodeMagics",
                "logoff": "LoggingMagics",
                "logon": "LoggingMagics",
                "logstart": "LoggingMagics",
                "logstate": "LoggingMagics",
                "logstop": "LoggingMagics",
                "ls": "Other",
                "lsmagic": "BasicMagics",
                "lx": "Other",
                "macro": "ExecutionMagics",
                "magic": "BasicMagics",
                "man": "KernelMagics",
                "matplotlib": "PylabMagics",
                "mkdir": "Other",
                "more": "KernelMagics",
                "mv": "Other",
                "notebook": "BasicMagics",
                "page": "BasicMagics",
                "pastebin": "CodeMagics",
                "pdb": "ExecutionMagics",
                "pdef": "NamespaceMagics",
                "pdoc": "NamespaceMagics",
                "pfile": "NamespaceMagics",
                "pinfo": "NamespaceMagics",
                "pinfo2": "NamespaceMagics",
                "pip": "Other",
                "popd": "OSMagics",
                "pprint": "BasicMagics",
                "precision": "BasicMagics",
                "profile": "BasicMagics",
                "prun": "ExecutionMagics",
                "psearch": "NamespaceMagics",
                "psource": "NamespaceMagics",
                "pushd": "OSMagics",
                "pwd": "OSMagics",
                "pycat": "OSMagics",
                "pylab": "PylabMagics",
                "qtconsole": "KernelMagics",
                "quickref": "BasicMagics",
                "recall": "HistoryMagics",
                "rehashx": "OSMagics",
                "reload_ext": "ExtensionMagics",
                "rep": "Other",
                "rerun": "HistoryMagics",
                "reset": "NamespaceMagics",
                "reset_selective": "NamespaceMagics",
                "rm": "Other",
                "rmdir": "Other",
                "run": "ExecutionMagics",
                "save": "CodeMagics",
                "sc": "OSMagics",
                "set_env": "OSMagics",
                "shell": "Other",
                "store": "StoreMagics",
                "sx": "OSMagics",
                "system": "OSMagics",
                "tb": "ExecutionMagics",
                "tensorflow_version": "Other",
                "time": "ExecutionMagics",
                "timeit": "ExecutionMagics",
                "unalias": "OSMagics",
                "unload_ext": "ExtensionMagics",
                "who": "NamespaceMagics",
                "who_ls": "NamespaceMagics",
                "whos": "NamespaceMagics",
                "xdel": "NamespaceMagics",
                "xmode": "BasicMagics"
              }
            },
            "text/plain": [
              "Available line magics:\n",
              "%alias  %alias_magic  %autocall  %automagic  %autosave  %bookmark  %cat  %cd  %clear  %colors  %config  %connect_info  %cp  %debug  %dhist  %dirs  %doctest_mode  %ed  %edit  %env  %gui  %hist  %history  %killbgscripts  %ldir  %less  %lf  %lk  %ll  %load  %load_ext  %loadpy  %logoff  %logon  %logstart  %logstate  %logstop  %ls  %lsmagic  %lx  %macro  %magic  %man  %matplotlib  %mkdir  %more  %mv  %notebook  %page  %pastebin  %pdb  %pdef  %pdoc  %pfile  %pinfo  %pinfo2  %pip  %popd  %pprint  %precision  %profile  %prun  %psearch  %psource  %pushd  %pwd  %pycat  %pylab  %qtconsole  %quickref  %recall  %rehashx  %reload_ext  %rep  %rerun  %reset  %reset_selective  %rm  %rmdir  %run  %save  %sc  %set_env  %shell  %store  %sx  %system  %tb  %tensorflow_version  %time  %timeit  %unalias  %unload_ext  %who  %who_ls  %whos  %xdel  %xmode\n",
              "\n",
              "Available cell magics:\n",
              "%%!  %%HTML  %%SVG  %%bash  %%bigquery  %%capture  %%debug  %%file  %%html  %%javascript  %%js  %%latex  %%perl  %%prun  %%pypy  %%python  %%python2  %%python3  %%ruby  %%script  %%sh  %%shell  %%svg  %%sx  %%system  %%time  %%timeit  %%writefile\n",
              "\n",
              "Automagic is ON, % prefix IS NOT needed for line magics."
            ]
          },
          "execution_count": 1,
          "metadata": {},
          "output_type": "execute_result"
        }
      ],
      "source": [
        "%lsmagic"
      ]
    },
    {
      "cell_type": "code",
      "execution_count": null,
      "metadata": {
        "colab": {
          "base_uri": "https://localhost:8080/"
        },
        "id": "m36l1LMSahqO",
        "outputId": "c5a10078-5071-4d88-8ec9-ae91c6c2e3a7"
      },
      "outputs": [
        {
          "name": "stdout",
          "output_type": "stream",
          "text": [
            "Writing CalcWinPercentage.cpp\n"
          ]
        }
      ],
      "source": [
        "%%writefile CalcWinPercentage.cpp\n",
        "\n",
        "#include <iostream>\n",
        "#include <cstring>\n",
        "#include <cstdlib>\n",
        "#include <string>\n",
        "#include <cmath>\n",
        "\n",
        "using namespace std;\n",
        "\n",
        "class CalcWinPercentage {\n",
        "    public:\n",
        "        CalcWinPercentage(double homeAtk, double homeDef, double awayAtk, double awayDef);\n",
        "        void calc(double homeAtk, double homeDef, double awayAtk, double awayDef);\n",
        "        void reset() {\n",
        "            homewin = 0.0;\n",
        "            awaywin = 0.0;\n",
        "        }\n",
        "        double homewinpercentage() {return homewin;}\n",
        "        double awaywinpercentage() {return awaywin;}\n",
        "        int factorial (int num);\n",
        "        \n",
        "        const float avgGoals = 1.56;\n",
        " \n",
        "    private:\n",
        "        double homewin, awaywin;\n",
        "};\n",
        "\n",
        "CalcWinPercentage::CalcWinPercentage(double homeAtk, double homeDef, double awayAtk, double awayDef) {\n",
        "    homewin = 0;\n",
        "    awaywin = 0;\n",
        "\n",
        "    int i, j;\n",
        "    float scoreChance, homeExpGoals, awayExpGoals;\n",
        " \n",
        "    // this is broken because the formula is based on percentages, so 1 - x is positive\n",
        "    homeExpGoals = ((homeAtk * awayDef) / avgGoals) / ((homeAtk * awayDef) / avgGoals + (avgGoals/ (homeAtk * awayDef)));\n",
        "    awayExpGoals = ((awayAtk * homeDef) / avgGoals) / ((awayAtk * homeDef) / avgGoals + ((1 - awayAtk) * (1 - homeDef) / (1 - avgGoals)));\n",
        " \n",
        "    for (i = 0; i < 8; i++) {\n",
        "        for (j = 0; j < 8; j++) {\n",
        "            scoreChance = pow(homeExpGoals, i) * pow(awayExpGoals, j) * exp(-(homeExpGoals + awayExpGoals)) / (factorial(i) * factorial(j));\n",
        "            if (i > j) {\n",
        "                homewin += scoreChance;\n",
        "            }\n",
        "            if (j > i) {\n",
        "                awaywin += scoreChance;\n",
        "            }\n",
        "        }\n",
        "    }\n",
        "\n",
        "    homewin = homeExpGoals;\n",
        "    awaywin = awayExpGoals;\n",
        "}\n",
        "\n",
        "void CalcWinPercentage::calc(double homeAtk, double homeDef, double awayAtk, double awayDef) {\n",
        "    int i, j;\n",
        "    float scoreChance;\n",
        "    homewin = 0;\n",
        "    awaywin = 4.5;\n",
        " \n",
        "}\n",
        "\n",
        "int CalcWinPercentage::factorial (int num) {\n",
        "    int result = 1;\n",
        "    if (num > 0) {\n",
        "        for (int i = num; i > 1; i--) {\n",
        "            result *= i;\n",
        "        }\n",
        "    }\n",
        "    return result;\n",
        "}\n",
        "\n",
        "// Define C functions for the C++ class that can be accessed by ctypes\n",
        "\n",
        "extern \"C\"\n",
        "{\n",
        "    CalcWinPercentage* CWP_new(double ha, double hd, double aa, double ad) {return new CalcWinPercentage(ha, hd, aa, ad);}\n",
        "    void CWP_calc(CalcWinPercentage* cwp, double ha, double hd, double aa, double ad) {cwp->calc(ha, hd, aa, ad);}\n",
        "    void CWP_reset(CalcWinPercentage* cwp) {cwp->reset();}\n",
        "    double CWP_homewinpercentage(CalcWinPercentage* cwp) {return cwp->homewinpercentage();}\n",
        "    double CWP_awaywinpercentage(CalcWinPercentage* cwp) {return cwp->awaywinpercentage();}\n",
        "    int CWP_factorial(CalcWinPercentage* cwp, int num) {return cwp->factorial(num);}\n",
        "}"
      ]
    },
    {
      "cell_type": "code",
      "execution_count": null,
      "metadata": {
        "colab": {
          "base_uri": "https://localhost:8080/"
        },
        "id": "AyKkrYft-rSp",
        "outputId": "c17133e0-e0b2-46f9-c9f7-4dd07e4f8ca3"
      },
      "outputs": [
        {
          "name": "stdout",
          "output_type": "stream",
          "text": [
            "rm: cannot remove 'libCalcWinPercentage.so': No such file or directory\n",
            "rm: cannot remove 'CalcWinPercentage.o': No such file or directory\n",
            "total 12\n",
            "-rw-r--r-- 1 root root 2649 Jul 10 03:14 CalcWinPercentage.cpp\n",
            "drwx------ 5 root root 4096 Jul 10 03:08 drive\n",
            "drwxr-xr-x 1 root root 4096 Jul  6 13:22 sample_data\n"
          ]
        }
      ],
      "source": [
        "!rm libCalcWinPercentage.so\n",
        "!rm CalcWinPercentage.o\n",
        "!ls -l"
      ]
    },
    {
      "cell_type": "code",
      "execution_count": null,
      "metadata": {
        "colab": {
          "base_uri": "https://localhost:8080/"
        },
        "id": "UWey1PgbGDFS",
        "outputId": "bed7facf-1001-4fef-f9fa-63fec471ba4a"
      },
      "outputs": [
        {
          "name": "stdout",
          "output_type": "stream",
          "text": [
            "total 36\n",
            "-rw-r--r-- 1 root root  2660 Jul 20 01:18 CalcWinPercentage.cpp\n",
            "-rw-r--r-- 1 root root  7952 Jul 20 01:19 CalcWinPercentage.o\n",
            "drwx------ 5 root root  4096 Jul 20 01:18 drive\n",
            "-rwxr-xr-x 1 root root 13608 Jul 20 01:19 libCalcWinPercentage.so\n",
            "drwxr-xr-x 1 root root  4096 Jul 13 13:43 sample_data\n"
          ]
        }
      ],
      "source": [
        "!g++ -c -fPIC CalcWinPercentage.cpp -o CalcWinPercentage.o\n",
        "!gcc -shared -o libCalcWinPercentage.so CalcWinPercentage.o\n",
        "!ls -l"
      ]
    },
    {
      "cell_type": "code",
      "execution_count": null,
      "metadata": {
        "id": "6rcdbwrJBDzV"
      },
      "outputs": [],
      "source": [
        "import ctypes\n",
        "import numpy as np\n",
        "import pandas as pd\n",
        "\n",
        "lib = ctypes.cdll.LoadLibrary('/content/libCalcWinPercentage.so')\n",
        "\n",
        "class CalcWinPercentage:\n",
        "  def __init__(self, ha, hd, aa, ad):\n",
        "    lib.CWP_new.argtypes = [ctypes.c_double, ctypes.c_double, ctypes.c_double, ctypes.c_double]\n",
        "    lib.CWP_new.restype = ctypes.c_void_p\n",
        "\n",
        "    lib.CWP_calc.argtypes = [ctypes.c_void_p, ctypes.c_double, ctypes.c_double, ctypes.c_double, ctypes.c_double]\n",
        "    lib.CWP_calc.restype = ctypes.c_void_p\n",
        "\n",
        "    lib.CWP_reset.argtypes = [ctypes.c_void_p]\n",
        "    lib.CWP_reset.restype = ctypes.c_void_p\n",
        "\n",
        "    lib.CWP_homewinpercentage.argtypes = [ctypes.c_void_p]\n",
        "    lib.CWP_homewinpercentage.restype = ctypes.c_double\n",
        "\n",
        "    lib.CWP_awaywinpercentage.argtypes = [ctypes.c_void_p]\n",
        "    lib.CWP_awaywinpercentage.restype = ctypes.c_double\n",
        "\n",
        "    lib.CWP_factorial.argtypes = [ctypes.c_void_p, ctypes.c_int]\n",
        "    lib.CWP_factorial.restype = ctypes.c_int\n",
        "\n",
        "    self.obj = lib.CWP_new(ha, hd, aa, ad)\n",
        "\n",
        "  def calc(self, ha, hd, aa, ad):\n",
        "    lib.CWP_calc(self.obj, ha, hd, aa, ad)\n",
        "\n",
        "  def reset(self):\n",
        "    lib.CWP_reset(self.obj)\n",
        "\n",
        "  def homewinpercentage(self):\n",
        "    return lib.CWP_homewinpercentage(self.obj)\n",
        "\n",
        "  def awaywinpercentage(self):\n",
        "    return lib.CWP_awaywinpercentage(self.obj)\n",
        "\n",
        "# from lib import CalcWinPercentage\n",
        "\n",
        "# Test that the C++ library is working\n",
        "\n",
        "cwp = CalcWinPercentage(4, 5, 6.7, 7)\n",
        "print(cwp.awaywinpercentage())\n",
        "print(cwp.homewinpercentage())\n",
        "cwp.reset()\n",
        "print(cwp.awaywinpercentage())"
      ]
    },
    {
      "cell_type": "code",
      "execution_count": 52,
      "metadata": {
        "colab": {
          "base_uri": "https://localhost:8080/"
        },
        "id": "ZIOYPFAtZQqS",
        "outputId": "75f659f3-8295-42b5-d6d3-a85866121d11"
      },
      "outputs": [
        {
          "output_type": "stream",
          "name": "stdout",
          "text": [
            "\n",
            " Gamma distribution predictions\n",
            "0.529234267311444\n",
            "0.5173170360449282\n",
            "\n",
            " SPI correlation\n",
            "0.5194970903626085\n",
            "0.498573500172721\n",
            "\n",
            " League Average Goals Scored\n",
            "1.564592105263158\n",
            "1.283565789473684\n",
            "\n",
            " League Average Goals Predicted\n",
            "1.6243679634505344\n",
            "1.6215079365079368\n",
            "1.347843206048802\n",
            "1.3304497354497353\n"
          ]
        }
      ],
      "source": [
        "from mpl_toolkits import mplot3d\n",
        "import numpy as np\n",
        "import pandas as pd\n",
        "import matplotlib.pyplot as plt\n",
        "from sklearn import linear_model\n",
        "from scipy.stats import gamma\n",
        "from sklearn.neighbors import NearestNeighbors\n",
        "\n",
        "\n",
        "\n",
        "# Code block will analyze EPL data\n",
        "# Load the data into variables\n",
        "spi_global_ranking = pd.read_csv('/content/drive/My Drive/Sports Data Analysis/Soccer Data/538 SPI Data/spi_global_rankings.csv')\n",
        "spi_matches = pd.read_csv('/content/drive/My Drive/Sports Data Analysis/Soccer Data/538 SPI Data/spi_matches.csv')\n",
        "spi_matches_latest = pd.read_csv('/content/drive/My Drive/Sports Data Analysis/Soccer Data/538 SPI Data/spi_matches_latest.csv')\n",
        "\n",
        "EPL_match_odds_2122 = pd.read_csv('/content/drive/My Drive/Sports Data Analysis/Soccer Data/EPL Betting Odds 2021 2022.csv')\n",
        "EPL_match_odds_2021 = pd.read_csv('/content/drive/My Drive/Sports Data Analysis/Soccer Data/EPL Betting Odds 2020 2021.csv')\n",
        "EPL_match_odds_1920 = pd.read_csv('/content/drive/My Drive/Sports Data Analysis/Soccer Data/EPL Betting Odds 2019 2020.csv')\n",
        "EPL_match_odds_1819 = pd.read_csv('/content/drive/My Drive/Sports Data Analysis/Soccer Data/EPL Betting Odds 2018 2019.csv')\n",
        "EPL_match_odds_1718 = pd.read_csv('/content/drive/My Drive/Sports Data Analysis/Soccer Data/EPL Betting Odds 2017 2018.csv')\n",
        "EPL_match_odds_1617 = pd.read_csv('/content/drive/My Drive/Sports Data Analysis/Soccer Data/EPL Betting Odds 2016 2017.csv')\n",
        "\n",
        "# This section stores the data I want to use regarding betting markets in a new dataframe\n",
        "keep_cols = ['HomeTeam', 'AwayTeam', 'B365H', 'B365A', 'B365D', 'FTR', 'HTR']\n",
        "EPL_match_odds = EPL_match_odds_1617[keep_cols].sort_values(['HomeTeam', 'AwayTeam'])\n",
        "EPL_match_odds = EPL_match_odds.append(EPL_match_odds_1718[keep_cols].sort_values(['HomeTeam', 'AwayTeam']))\n",
        "EPL_match_odds = EPL_match_odds.append(EPL_match_odds_1819[keep_cols].sort_values(['HomeTeam', 'AwayTeam']))\n",
        "EPL_match_odds = EPL_match_odds.append(EPL_match_odds_1920[keep_cols].sort_values(['HomeTeam', 'AwayTeam']))\n",
        "EPL_match_odds = EPL_match_odds.append(EPL_match_odds_2021[keep_cols].sort_values(['HomeTeam', 'AwayTeam']))\n",
        "EPL_match_odds = EPL_match_odds.append(EPL_match_odds_2122[keep_cols].sort_values(['HomeTeam', 'AwayTeam']))\n",
        "\n",
        "# This section converts the data into usable forms\n",
        "# Converting between decimal odds and implied probability is just y = 1/x\n",
        "EPL_match_odds['B365A'] = EPL_match_odds['B365A'].apply(lambda x: 1/x)\n",
        "EPL_match_odds['B365D'] = EPL_match_odds['B365D'].apply(lambda x: 1/x)\n",
        "EPL_match_odds['B365H'] = EPL_match_odds['B365H'].apply(lambda x: 1/x)\n",
        "\n",
        "spi_matches_EPL = spi_matches[spi_matches['league'] == 'Barclays Premier League']\n",
        "spi_matches_EPL = spi_matches_EPL.replace(to_replace='AFC Bournemouth', value='Bournemouth').sort_values(['season', 'team1', 'team2'])\n",
        "\n",
        "# This block will load the data I'm using into a new dataframe to make it easier to manipulate\n",
        "# The odds in the odds_comparison dataframe represent the difference between SPI match\n",
        "# probability and the line offered at Bet365. Positive numbers represent +EV\n",
        "home_odds = np.array(spi_matches_EPL['prob1']) - np.array(EPL_match_odds['B365H'])\n",
        "home_odds = [round(x*100, 2) for x in home_odds]\n",
        "\n",
        "away_odds = np.array(spi_matches_EPL['prob2']) - np.array(EPL_match_odds['B365A'])\n",
        "away_odds = [round(x*100, 2) for x in away_odds]\n",
        "\n",
        "draw_odds = np.array(spi_matches_EPL['probtie']) - np.array(EPL_match_odds['B365D'])\n",
        "draw_odds = [round(x*100, 2) for x in draw_odds]\n",
        "\n",
        "odds_comparison = pd.DataFrame({'Season': spi_matches_EPL['season'],\n",
        "                                'Home Team': spi_matches_EPL['team1'],\n",
        "                                'Away Team': spi_matches_EPL['team2'],\n",
        "                                'Home Edge': home_odds,\n",
        "                                'Away Edge': away_odds,\n",
        "                                'Draw Edge': draw_odds,\n",
        "                                'Result': np.array(EPL_match_odds['FTR'])})\n",
        "\n",
        "# Arrays to build the game_data DataFrame\n",
        "season = [np.array(spi_matches_EPL['season'])[x+10] for x in range(len(spi_matches_EPL) -10)]\n",
        "date = [np.array(spi_matches_EPL['date'])[x+10] for x in range(len(spi_matches_EPL) - 10)]\n",
        "hometeam = [np.array(spi_matches_EPL['team1'])[x+10] for x in range(len(spi_matches_EPL) - 10)]\n",
        "home_goals = [np.array(spi_matches_EPL['xg1'])[x+10] for x in range(len(spi_matches_EPL) - 10)]\n",
        "away_goals = [np.array(spi_matches_EPL['xg2'])[x+10] for x in range(len(spi_matches_EPL) - 10)]\n",
        "awayteam = [np.array(spi_matches_EPL['team2'])[x+10] for x in range(len(spi_matches_EPL) - 10)]\n",
        "result = [np.array(EPL_match_odds['FTR'])[x+10] for x in range(len(EPL_match_odds) - 10)]\n",
        "home_odds = [np.array(EPL_match_odds['B365H'])[x+10] for x in range(len(EPL_match_odds) - 10)]\n",
        "away_odds = [np.array(EPL_match_odds['B365A'])[x+10] for x in range(len(EPL_match_odds) - 10)]\n",
        "draw_odds = [np.array(EPL_match_odds['B365D'])[x+10] for x in range(len(EPL_match_odds) - 10)]\n",
        "pythag = np.divide(np.multiply(home_goals, home_goals), np.add(np.multiply(home_goals, home_goals), np.multiply(away_goals, away_goals)))\n",
        "\n",
        "# Object to handle data manipulation; initialized to create ratings\n",
        "# Assumes spi_matches_EPL is the df being passed\n",
        "class CalcTeamRatings:\n",
        "  def __init__(self, home, away, date, df):\n",
        "    self.home = home\n",
        "    self.date = date\n",
        "    self.away = away\n",
        "    self.df = df[df['date'] < self.date].sort_values(['date'])\n",
        "    self.df = self.df.dropna()\n",
        "    self.home_df = self.df[self.df['team1'] == self.home]\n",
        "    self.home_df = self.home_df.tail(30)\n",
        "    self.away_df = self.df[self.df['team2'] == self.away]\n",
        "    self.away_df = self.away_df.tail(30)\n",
        "  def rollingAvgXG(self):\n",
        "    if (len(self.home_df) < 10):\n",
        "      return self.home_df['xg1'].mean()\n",
        "    if (len(self.home_df) < 20):\n",
        "      return ((self.home_df['xg1'].tail(10).mean() + self.home_df['xg1'].mean()) / 2)\n",
        "    old_games = self.home_df['xg1'].head(20).mean()\n",
        "    new_games = self.home_df['xg1'].tail(10).mean()\n",
        "    return ((old_games + new_games) / 2)\n",
        "  def rollingAvgXGA(self):\n",
        "    if (len(self.home_df) < 10):\n",
        "      return self.home_df['xg2'].mean()\n",
        "    if (len(self.home_df) < 20):\n",
        "      return ((self.home_df['xg2'].tail(10).mean() + self.home_df['xg2'].mean()) / 2)\n",
        "    old_games = self.home_df['xg2'].head(20).mean()\n",
        "    new_games = self.home_df['xg2'].tail(10).mean()\n",
        "    return ((old_games + new_games) / 2)\n",
        "  def away_rollingAvgXG(self):\n",
        "    if (len(self.away_df) < 10):\n",
        "      return self.away_df['xg2'].mean()\n",
        "    if (len(self.away_df) < 20):\n",
        "      return ((self.away_df['xg2'].tail(10).mean() + self.away_df['xg2'].mean()) / 2)\n",
        "    old_games = self.away_df['xg2'].head(20).mean()\n",
        "    new_games = self.away_df['xg2'].tail(10).mean()\n",
        "    return ((old_games + new_games) / 2)\n",
        "  def away_rollingAvgXGA(self):\n",
        "    if (len(self.away_df) < 10):\n",
        "      return self.away_df['xg1'].mean()\n",
        "    if (len(self.away_df) < 20):\n",
        "      return ((self.away_df['xg1'].tail(10).mean() + self.away_df['xg1'].mean()) / 2)\n",
        "    old_games = self.away_df['xg1'].head(20).mean()\n",
        "    new_games = self.away_df['xg1'].tail(10).mean()\n",
        "    return ((old_games + new_games) / 2)\n",
        "\n",
        "lg_avg_home = spi_matches_EPL['xg1'].sum()/len(spi_matches_EPL)\n",
        "lg_avg_away = spi_matches_EPL['xg2'].sum()/len(spi_matches_EPL)\n",
        "\n",
        "game_data = pd.DataFrame({'Season': np.array(season),\n",
        "                          'Date': np.array(date),\n",
        "                          'Home Team': np.array(hometeam),\n",
        "                          'Away Team': np.array(awayteam),\n",
        "                          'Home Goals': np.array(home_goals),\n",
        "                          'Away Goals': np.array(away_goals),\n",
        "                          'Goal Difference': np.array(home_goals) - np.array(away_goals),\n",
        "                          'Pythag': np.array(pythag),\n",
        "                          'Result': np.array(result),\n",
        "                          'Home Odds': np.array(home_odds),\n",
        "                          'Away Odds': np.array(away_odds),\n",
        "                          'Draw Odds': np.array(draw_odds)})\n",
        "\n",
        "# This slice creates a sample that can be used to generate better atk/def ratings\n",
        "# Keep in mind that this extra data used to create ratings does not apply to promoted teams\n",
        "game_data = game_data[game_data['Season'] > 2016].reset_index(drop=True)\n",
        "\n",
        "game_data['Object'] = [CalcTeamRatings(game_data['Home Team'][x], game_data['Away Team'][x], game_data['Date'][x], spi_matches_EPL) for x in range(len(game_data))]\n",
        "game_data['Home Atk'] = [game_data['Object'][x].rollingAvgXG() for x in range(len(game_data))]\n",
        "game_data['Home Def'] = [game_data['Object'][x].rollingAvgXGA() for x in range(len(game_data))]\n",
        "game_data['Away Atk'] = [game_data['Object'][x].away_rollingAvgXG() for x in range(len(game_data))]\n",
        "game_data['Away Def'] = [game_data['Object'][x].away_rollingAvgXGA() for x in range(len(game_data))]\n",
        "\n",
        "game_data['Home Atk'] = game_data['Home Atk'].replace(to_replace=0, value=np.nan)\n",
        "game_data['Home Def'] = game_data['Home Def'].replace(to_replace=0, value=np.nan)\n",
        "game_data['Away Atk'] = game_data['Away Atk'].replace(to_replace=0, value=np.nan)\n",
        "game_data['Away Def'] = game_data['Away Def'].replace(to_replace=0, value=np.nan)\n",
        "game_data = game_data.dropna()\n",
        "game_data = game_data.reset_index(drop=True).replace(to_replace=0, value=0.01)\n",
        "\n",
        "sample_data = game_data[game_data['Season'] < 2021]\n",
        "test_data = game_data[game_data['Season'] >= 2021].reset_index(drop=True)\n",
        "sample_home = [[sample_data['Home Atk'][x], sample_data['Away Def'][x]] for x in range(len(sample_data))]\n",
        "sample_away = [[sample_data['Away Atk'][x], sample_data['Home Def'][x]] for x in range(len(sample_data))]\n",
        "\n",
        "gld_home = linear_model.TweedieRegressor(power=2, alpha=0.0, link='log', warm_start=False)\n",
        "gld_away = linear_model.TweedieRegressor(power=2, alpha=0.0, link='log', warm_start=False)\n",
        "gld_home.fit(sample_home, np.array(sample_data['Home Goals']))\n",
        "gld_away.fit(sample_away, np.array(sample_data['Away Goals']))\n",
        "\n",
        "pred_home = [[test_data['Home Atk'][x], test_data['Away Def'][x]] for x in range(len(test_data))]\n",
        "pred_away = [[test_data['Away Atk'][x], test_data['Home Def'][x]] for x in range(len(test_data))]\n",
        "model_xg_home = gld_home.predict(pred_home)\n",
        "model_xg_away = gld_away.predict(pred_away)\n",
        "             \n",
        "test_data['Gamma Pred Home'] = np.array(model_xg_home) + .065\n",
        "test_data['Gamma Pred Away'] = np.array(model_xg_away) - .1\n",
        "test_data['Gamma Pred Pythag'] = np.divide(np.multiply(model_xg_home, model_xg_home), np.add(np.multiply(model_xg_home, model_xg_home), np.multiply(model_xg_away, model_xg_away)))\n",
        "\n",
        "print(\"\\n\", \"Gamma distribution predictions\")\n",
        "print(test_data['Gamma Pred Home'].corr(test_data['Home Goals']))\n",
        "print(test_data['Gamma Pred Away'].corr(test_data['Away Goals']))\n",
        "\n",
        "print(\"\\n\", \"SPI correlation\")\n",
        "print(spi_matches_EPL['proj_score1'].corr(spi_matches_EPL['xg1']))\n",
        "print(spi_matches_EPL['proj_score2'].corr(spi_matches_EPL['xg2']))\n",
        "\n",
        "print(\"\\n\", \"League Average Goals Scored\")\n",
        "print(lg_avg_home)\n",
        "print(lg_avg_away)\n",
        "\n",
        "print('\\n', 'League Average Goals Predicted')\n",
        "print(test_data['Gamma Pred Home'].sum()/len(test_data))\n",
        "print(test_data['Home Goals'].sum()/len(test_data))\n",
        "print(test_data['Gamma Pred Away'].sum()/len(test_data))\n",
        "print(test_data['Away Goals'].sum()/len(test_data))"
      ]
    },
    {
      "cell_type": "code",
      "execution_count": 46,
      "metadata": {
        "colab": {
          "base_uri": "https://localhost:8080/"
        },
        "id": "Vqu0iRihJJxD",
        "outputId": "1355d401-d83a-495e-daaf-6a97afc90222"
      },
      "outputs": [
        {
          "output_type": "stream",
          "name": "stdout",
          "text": [
            "[0.53, 1.12, 2.06, 1.53, 0.49, 2.26, 1.83, 1.24, 0.59, 1.66, 0.47, 0.8, 2.4, 1.71, 2.11, 2.02, 1.54, 1.11, 0.16, 0.63, 0.92, 2.01, 0.16, 1.51, 0.48, 1.27, 2.46, 3.35, 1.55, 1.86, 3.24, 1.77, 2.05, 0.84, 1.65, 1.39, 2.06, 1.6, 0.79, 2.24, 0.55, 1.12, 2.11, 0.88, 2.35, 1.29, 1.46, 0.73, 0.73, 0.96, 2.15, 1.42, 1.64, 2.22, 0.84, 2.41, 0.78, 0.58, 1.23, 1.74, 1.86, 1.24, 0.98, 1.4, 0.59, 2.66, 1.22, 1.66, 0.41, 0.35, 1.0, 1.0, 4.1, 0.51, 1.77]\n"
          ]
        }
      ],
      "source": [
        "import scipy.integrate as integrate\n",
        "\n",
        "def CalcIntegral(a, b, constraints_home, constraints_away):\n",
        "  mean = (a + b) / 2\n",
        "  result_home = integrate.quad(lambda x: gamma.pdf(x, constraints_home[0], loc=constraints_home[1], scale=constraints_home[2]), a, b)\n",
        "  result_away = integrate.quad(lambda x: gamma.pdf(x, constraints_away[0], loc=constraints_away[1], scale=constraints_away[2]), a, b)\n",
        "  return [mean, result_home[0], result_away[0]]\n",
        "\n",
        "n = 75\n",
        "neigh_home = NearestNeighbors(n_neighbors=n)\n",
        "neigh_away = NearestNeighbors(n_neighbors=n)\n",
        "sample_data = spi_matches_EPL[spi_matches_EPL['season'] < 2021]\n",
        "sample_data = sample_data.dropna()\n",
        "sample_data = sample_data.reset_index(drop=True).replace(to_replace=0, value=0.01)\n",
        "\n",
        "knn_sample_home = [[sample_data['proj_score1'].iloc[x]] for x in range(len(sample_data))]\n",
        "knn_sample_away = [[sample_data['proj_score2'].iloc[x]] for x in range(len(sample_data))]\n",
        "neigh_home.fit(knn_sample_home)\n",
        "neigh_away.fit(knn_sample_away)\n",
        "\n",
        "knn_result_home = [neigh_home.kneighbors([[test_data['Gamma Pred Home'][x]]]) for x in range(len(test_data))]\n",
        "knn_result_away = [neigh_away.kneighbors([[test_data['Gamma Pred Away'][x]]]) for x in range(len(test_data))]\n",
        "\n",
        "# A note about the the format of the returned data from kNN.kneighbors\n",
        "# it is returned as a 4 dimensional array\n",
        "# the first dimension is index of the element from test_data\n",
        "# the second is 0 for an array containing the distances of the test data to sample neighbors\n",
        "# or 1 for an array of indices of neighbors in the sample data\n",
        "# the third is empty and therefore always 0; this results from the nested structure of the input data\n",
        "# the fourth is an individual distance or index of a neighbor of the sample data\n",
        "\n",
        "indices_home = [knn_result_home[x][1][0] for x in range(len(knn_result_home))]\n",
        "indices_away = [knn_result_away[x][1][0] for x in range(len(knn_result_away))]\n",
        "\n",
        "integral_values = np.empty([len(test_data), 499, 3])\n",
        "\n",
        "a = np.linspace(0, 8, 500)\n",
        "r1 = range(len(indices_home))\n",
        "r2 = range(len(a) - 1)\n",
        "for x in r1:\n",
        "  gamma_sample_home = [sample_data['xg1'].iloc[indices_home[x][z]] for z in range(n)]\n",
        "  gamma_sample_away = [sample_data['xg2'].iloc[indices_away[x][z]] for z in range(n)]\n",
        "  \n",
        "  # constraints are the [0] shape parameter, [1] loc parameter, [2] scale parameter\n",
        "  constraints_home = gamma.fit(gamma_sample_home)\n",
        "  constraints_away = gamma.fit(gamma_sample_away)\n",
        "  for i in r2:\n",
        "    integral_values[x][i] = CalcIntegral(a[i], a[i+1], constraints_home, constraints_away)\n",
        "print(gamma_sample_home)"
      ]
    },
    {
      "cell_type": "code",
      "execution_count": 47,
      "metadata": {
        "colab": {
          "base_uri": "https://localhost:8080/",
          "height": 505
        },
        "id": "vLXtvkBSGN80",
        "outputId": "b165c749-f142-455e-8a30-c51f045414f6"
      },
      "outputs": [
        {
          "output_type": "display_data",
          "data": {
            "text/plain": [
              "<Figure size 432x288 with 1 Axes>"
            ],
            "image/png": "[encoded data removed]"
          },
          "metadata": {
            "needs_background": "light"
          }
        },
        {
          "output_type": "stream",
          "name": "stdout",
          "text": [
            "Season                        2021\n",
            "Date                    2021-11-20\n",
            "Home Team            Wolverhampton\n",
            "Away Team          West Ham United\n",
            "Home Goals                    1.44\n",
            "Away Goals                    0.42\n",
            "Home Atk                     1.383\n",
            "Home Def                   1.18575\n",
            "Away Atk                   1.93075\n",
            "Away Def                   1.38025\n",
            "Gamma Pred Home           1.387653\n",
            "Gamma Pred Away           1.698163\n",
            "Name: 377, dtype: object\n"
          ]
        }
      ],
      "source": [
        "import numpy as np\n",
        "import pandas as pd\n",
        "import matplotlib.pyplot as plt\n",
        "from scipy.stats import gamma\n",
        "\n",
        "y = x\n",
        "buckets = np.linspace(0, 8, num=300)\n",
        "pdf_buckets_home = [gamma.pdf(buckets[x], constraints_home[0], constraints_home[1], constraints_home[2]) for x in range(len(buckets))]\n",
        "pdf_buckets_away = [gamma.pdf(buckets[x], constraints_away[0], constraints_away[1], constraints_away[2]) for x in range(len(buckets))]\n",
        "plt.scatter(buckets, pdf_buckets_home, c='red', marker='s')\n",
        "plt.scatter(buckets, pdf_buckets_away, c='blue', marker='s')\n",
        "plt.xlabel('xG')\n",
        "plt.ylabel('Gamma PDF')\n",
        "plt.show()\n",
        "disp_cols = ['Season', 'Date', 'Home Team', 'Away Team', 'Home Goals', 'Away Goals', 'Home Atk', 'Home Def', 'Away Atk', 'Away Def', 'Gamma Pred Home', 'Gamma Pred Away']\n",
        "print(test_data[disp_cols].iloc[y])"
      ]
    },
    {
      "cell_type": "code",
      "execution_count": 48,
      "metadata": {
        "id": "qvWDXGJ84oWa"
      },
      "outputs": [],
      "source": [
        "import random as rand\n",
        "\n",
        "r1 = range(len(test_data))\n",
        "r2 = range(len(a) - 1)\n",
        "odds = np.empty([len(test_data), 3])\n",
        "for i in r1:\n",
        "  home_odds = 0\n",
        "  away_odds = 0\n",
        "  draw_odds = 0\n",
        "  for j in r2:\n",
        "    for k in r2:\n",
        "      if (abs(integral_values[i][j][0] - integral_values[i][k][0]) < .325):\n",
        "        draw_odds += (integral_values[i][j][1] * integral_values[i][k][2])\n",
        "      elif rand.random() < .025:\n",
        "        draw_odds += (integral_values[i][j][1] * integral_values[i][k][2])\n",
        "      elif (integral_values[i][j][0] > integral_values[i][k][0]):\n",
        "        home_odds += (integral_values[i][j][1] * integral_values[i][k][2])\n",
        "      elif (integral_values[i][k][0] > integral_values[i][j][0]):\n",
        "        away_odds += (integral_values[i][j][1] * integral_values[i][k][2])\n",
        "  odds[i] = [home_odds, away_odds, draw_odds]"
      ]
    },
    {
      "cell_type": "code",
      "execution_count": 50,
      "metadata": {
        "colab": {
          "base_uri": "https://localhost:8080/"
        },
        "id": "lN--CrV-S3kF",
        "outputId": "2ae328cf-f28d-4154-e9e6-5ad0452e9a7f"
      },
      "outputs": [
        {
          "output_type": "stream",
          "name": "stdout",
          "text": [
            "Total Profit:  -0.9299999999999997  on  158  total bets\n",
            "Profit   -8.38\n",
            "dtype: float64  on  109  H bets\n",
            "Profit    3.45\n",
            "dtype: float64  on  38  A bets\n",
            "Profit    4.0\n",
            "dtype: float64  on  11  D bets\n",
            "\n",
            "Total games in the dataset:  378\n",
            "Average draw probability:  0.2387212850889879\n"
          ]
        }
      ],
      "source": [
        "def CalcBet(df, x):\n",
        "    threshold = .05\n",
        "    max_edge = max(df['Home Edge'].iloc[x], df['Away Edge'].iloc[x], df['Draw Edge'].iloc[x])\n",
        "    if max_edge < threshold:\n",
        "        return 'No Bet'\n",
        "    if df['Draw Edge'].iloc[x] > threshold:\n",
        "        return 'D'\n",
        "    elif max_edge == df['Home Edge'].iloc[x]:\n",
        "        return 'H'\n",
        "    else:\n",
        "        return 'A'\n",
        "    \n",
        "def CalcProfit(df, x):\n",
        "    if df['Model Bet'].iloc[x] == 'No Bet':\n",
        "        return 0\n",
        "    elif df['Model Bet'].iloc[x] == df['Result'].iloc[x]:\n",
        "        if df['Model Bet'].iloc[x] == 'H':\n",
        "            return (1/df['Home Odds'].iloc[x] - 1)\n",
        "        elif df['Model Bet'].iloc[x] == 'A':\n",
        "            return (1/df['Away Odds'].iloc[x] - 1)\n",
        "        else:\n",
        "            return (1/df['Draw Odds'].iloc[x] - 1)\n",
        "    else:\n",
        "        return -1\n",
        "\n",
        "test_data['Home Prob'] = [odds[x][0] for x in range(len(odds))]\n",
        "test_data['Away Prob'] = [odds[x][1] for x in range(len(odds))]\n",
        "test_data['Draw Prob'] = [odds[x][2] for x in range(len(odds))]\n",
        "test_data['Home Edge'] = [test_data['Home Prob'][x] - test_data['Home Odds'][x] for x in range(len(test_data))]\n",
        "test_data['Away Edge'] = [test_data['Away Prob'][x] - test_data['Away Odds'][x] for x in range(len(test_data))]\n",
        "test_data['Draw Edge'] = [test_data['Draw Prob'][x] - test_data['Draw Odds'][x] for x in range(len(test_data))]\n",
        "test_data['Model Bet'] = [CalcBet(test_data, x) for x in range(len(test_data))]\n",
        "test_data['Profit'] = [CalcProfit(test_data, x) for x in range(len(test_data))]\n",
        "\n",
        "print('Total Profit: ', test_data['Profit'].sum(), ' on ', len(test_data[test_data['Model Bet'] != 'No Bet']), ' total bets')\n",
        "print(test_data.loc[test_data['Model Bet'] == 'H', ['Profit']].sum(), ' on ', len(test_data[test_data['Model Bet'] == 'H']), ' H bets')\n",
        "print(test_data.loc[test_data['Model Bet'] == 'A', ['Profit']].sum(), ' on ', len(test_data[test_data['Model Bet'] == 'A']), ' A bets')\n",
        "print(test_data.loc[test_data['Model Bet'] == 'D', ['Profit']].sum(), ' on ', len(test_data[test_data['Model Bet'] == 'D']), ' D bets')\n",
        "print('\\nTotal games in the dataset: ', len(test_data))\n",
        "print('Average draw probability: ', test_data['Draw Prob'].sum() / len(test_data))"
      ]
    },
    {
      "cell_type": "code",
      "execution_count": 51,
      "metadata": {
        "colab": {
          "base_uri": "https://localhost:8080/",
          "height": 1000
        },
        "id": "UrBCttzvo1Nn",
        "outputId": "17842965-1584-4e12-f00a-cd610e678053"
      },
      "outputs": [
        {
          "output_type": "execute_result",
          "data": {
            "text/plain": [
              "<seaborn.axisgrid.JointGrid at 0x7f8fe5f8c450>"
            ]
          },
          "metadata": {},
          "execution_count": 51
        },
        {
          "output_type": "display_data",
          "data": {
            "text/plain": [
              "<Figure size 432x432 with 3 Axes>"
            ],
            "image/png": "[encoded data removed]"
          },
          "metadata": {
            "needs_background": "light"
          }
        },
        {
          "output_type": "display_data",
          "data": {
            "text/plain": [
              "<Figure size 432x432 with 3 Axes>"
            ],
            "image/png": "[encoded data removed]"
          },
          "metadata": {
            "needs_background": "light"
          }
        },
        {
          "output_type": "display_data",
          "data": {
            "text/plain": [
              "<Figure size 432x432 with 3 Axes>"
            ],
            "image/png": "[encoded data removed]"
          },
          "metadata": {
            "needs_background": "light"
          }
        }
      ],
      "source": [
        "import seaborn as sns\n",
        "\n",
        "sns.jointplot(data=test_data[test_data['Model Bet'] == 'H'], x='Home Prob', y='Home Edge', hue='Result')\n",
        "sns.jointplot(data=test_data[test_data['Model Bet'] == 'A'], x='Away Prob', y='Away Edge', hue='Result')\n",
        "sns.jointplot(data=test_data[test_data['Model Bet'] == 'D'], x='Draw Prob', y='Draw Edge', hue='Result')\n",
        "\n",
        "#sns.displot(test_data['Draw Prob'], binwidth=.025)\n",
        "#sns.displot(spi_matches_EPL['probtie'])"
      ]
    },
    {
      "cell_type": "code",
      "source": [
        "plt.hist(np.array(test_data.loc[test_data['Model Bet'] == 'H', ['Home Prob']]), bins=20, range=(0, .8), histtype='step', color='red')\n",
        "plt.hist(np.array(test_data.loc[test_data['Model Bet'] == 'H', ['Home Odds']]), bins=20, range=(0, .8), histtype='step', color='blue')\n",
        "plt.show()\n",
        "\n",
        "plt.hist(np.array(test_data.loc[test_data['Model Bet'] == 'A', ['Away Prob']]), bins=20, range=(0, .8), histtype='step', color='red')\n",
        "plt.hist(np.array(test_data.loc[test_data['Model Bet'] == 'A', ['Away Odds']]), bins=20, range=(0, .8), histtype='step', color='blue')\n",
        "plt.show()\n",
        "\n",
        "plt.hist(np.array(test_data.loc[test_data['Model Bet'] == 'D', ['Draw Prob']]), bins=20, range=(0, .8), histtype='step', color='red')\n",
        "plt.hist(np.array(test_data.loc[test_data['Model Bet'] == 'D', ['Draw Odds']]), bins=20, range=(0, .8), histtype='step', color='blue')\n",
        "plt.show()"
      ],
      "metadata": {
        "colab": {
          "base_uri": "https://localhost:8080/",
          "height": 761
        },
        "id": "EJ0f9oO7ekha",
        "outputId": "52ae1083-3518-457a-aa02-42f32c8ed61a"
      },
      "execution_count": 22,
      "outputs": [
        {
          "output_type": "display_data",
          "data": {
            "text/plain": [
              "<Figure size 432x288 with 1 Axes>"
            ],
            "image/png": "[encoded data removed]"
          },
          "metadata": {
            "needs_background": "light"
          }
        },
        {
          "output_type": "display_data",
          "data": {
            "text/plain": [
              "<Figure size 432x288 with 1 Axes>"
            ],
            "image/png": "[encoded data removed]"
          },
          "metadata": {
            "needs_background": "light"
          }
        },
        {
          "output_type": "display_data",
          "data": {
            "text/plain": [
              "<Figure size 432x288 with 1 Axes>"
            ],
            "image/png": "[encoded data removed]"
          },
          "metadata": {
            "needs_background": "light"
          }
        }
      ]
    },
    {
      "cell_type": "code",
      "execution_count": null,
      "metadata": {
        "colab": {
          "base_uri": "https://localhost:8080/",
          "height": 314
        },
        "id": "SVx2hSgtYAGh",
        "outputId": "39b426f3-afce-408a-a0f4-d029204d9794"
      },
      "outputs": [
        {
          "data": {
            "image/png": "[encoded data removed]",
            "text/plain": [
              "<Figure size 432x288 with 1 Axes>"
            ]
          },
          "metadata": {},
          "output_type": "display_data"
        },
        {
          "name": "stdout",
          "output_type": "stream",
          "text": [
            "0.22949946751863684\n",
            "0.4164164164164164\n"
          ]
        }
      ],
      "source": [
        "# test to see where the best threshold is for declaring a match a draw\n",
        "# based on xGD\n",
        "# my target for the average probability of a draw is around 23%\n",
        "\n",
        "def DrawPercentage(gd):\n",
        "  return (len(game_data.loc[abs(game_data['Goal Difference']) < gd]) / len(game_data))\n",
        "\n",
        "draw_total = np.empty([1000])\n",
        "b = np.linspace(0, 4, 1000)\n",
        "for i in range(len(b)):\n",
        "  draw_total[i] = DrawPercentage(b[i])\n",
        "\n",
        "plt.scatter(b, draw_total)\n",
        "plt.xlabel('xGD')\n",
        "plt.ylabel('Percentage of Games Ending in a Draw')\n",
        "plt.show()\n",
        "print(draw_total[104])\n",
        "print(b[104])"
      ]
    }
  ],
  "metadata": {
    "colab": {
      "collapsed_sections": [],
      "name": "CalcWinPercentage.ipynb",
      "provenance": [],
      "mount_file_id": "1hZkN7wbOItharvu3xiNclRcEK663eeYA",
      "authorship_tag": "ABX9TyOsWOxfKefUJOHg6rrTxpf8"
    },
    "kernelspec": {
      "display_name": "Python 3",
      "name": "python3"
    },
    "language_info": {
      "name": "python"
    }
  },
  "nbformat": 4,
  "nbformat_minor": 0
}